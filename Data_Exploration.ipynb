{
 "cells": [
  {
   "cell_type": "markdown",
   "id": "835b438c",
   "metadata": {},
   "source": [
    "# Dataset"
   ]
  },
  {
   "cell_type": "markdown",
   "id": "a05e37ef",
   "metadata": {},
   "source": [
    "### First exploratory analysis"
   ]
  },
  {
   "cell_type": "code",
   "execution_count": 27,
   "id": "1cb06bcc",
   "metadata": {},
   "outputs": [],
   "source": [
    "import pandas as pd\n",
    "import seaborn as sns\n",
    "import matplotlib as plt"
   ]
  },
  {
   "cell_type": "code",
   "execution_count": 28,
   "id": "766a9626",
   "metadata": {},
   "outputs": [
    {
     "data": {
      "text/html": [
       "<div>\n",
       "<style scoped>\n",
       "    .dataframe tbody tr th:only-of-type {\n",
       "        vertical-align: middle;\n",
       "    }\n",
       "\n",
       "    .dataframe tbody tr th {\n",
       "        vertical-align: top;\n",
       "    }\n",
       "\n",
       "    .dataframe thead th {\n",
       "        text-align: right;\n",
       "    }\n",
       "</style>\n",
       "<table border=\"1\" class=\"dataframe\">\n",
       "  <thead>\n",
       "    <tr style=\"text-align: right;\">\n",
       "      <th></th>\n",
       "      <th>Family</th>\n",
       "      <th>Scientific name</th>\n",
       "      <th>Common name(s)</th>\n",
       "      <th>Red List status</th>\n",
       "      <th>Population trend</th>\n",
       "    </tr>\n",
       "  </thead>\n",
       "  <tbody>\n",
       "    <tr>\n",
       "      <th>0</th>\n",
       "      <td>BOLYERIDAE</td>\n",
       "      <td>Bolyeria multocarinata</td>\n",
       "      <td>Round Island Burrowing Boa</td>\n",
       "      <td>EX</td>\n",
       "      <td>NaN</td>\n",
       "    </tr>\n",
       "    <tr>\n",
       "      <th>1</th>\n",
       "      <td>DIPSADIDAE</td>\n",
       "      <td>Borikenophis sanctaecrucis</td>\n",
       "      <td>Saint Croix Racer</td>\n",
       "      <td>EX</td>\n",
       "      <td>NaN</td>\n",
       "    </tr>\n",
       "    <tr>\n",
       "      <th>2</th>\n",
       "      <td>TYPHLOPIDAE</td>\n",
       "      <td>Typhlops cariei</td>\n",
       "      <td>NaN</td>\n",
       "      <td>EX</td>\n",
       "      <td>NaN</td>\n",
       "    </tr>\n",
       "    <tr>\n",
       "      <th>3</th>\n",
       "      <td>ELAPIDAE</td>\n",
       "      <td>Aipysurus apraefrontalis</td>\n",
       "      <td>Sahul Reef Snake, Short-nosed Sea Snake</td>\n",
       "      <td>CR</td>\n",
       "      <td>decreasing</td>\n",
       "    </tr>\n",
       "    <tr>\n",
       "      <th>4</th>\n",
       "      <td>ELAPIDAE</td>\n",
       "      <td>Aipysurus foliosquama</td>\n",
       "      <td>Leaf-scaled Sea Snake</td>\n",
       "      <td>CR</td>\n",
       "      <td>decreasing</td>\n",
       "    </tr>\n",
       "    <tr>\n",
       "      <th>...</th>\n",
       "      <td>...</td>\n",
       "      <td>...</td>\n",
       "      <td>...</td>\n",
       "      <td>...</td>\n",
       "      <td>...</td>\n",
       "    </tr>\n",
       "    <tr>\n",
       "      <th>244</th>\n",
       "      <td>TYPHLOPIDAE</td>\n",
       "      <td>Typhlops syntherus</td>\n",
       "      <td>Barahona Peninsula Blindsnake</td>\n",
       "      <td>NT</td>\n",
       "      <td>unknown</td>\n",
       "    </tr>\n",
       "    <tr>\n",
       "      <th>245</th>\n",
       "      <td>VIPERIDAE</td>\n",
       "      <td>Vipera barani</td>\n",
       "      <td>NaN</td>\n",
       "      <td>NT</td>\n",
       "      <td>decreasing</td>\n",
       "    </tr>\n",
       "    <tr>\n",
       "      <th>246</th>\n",
       "      <td>VIPERIDAE</td>\n",
       "      <td>Vipera lotievi</td>\n",
       "      <td>Lotiev's Viper</td>\n",
       "      <td>NT</td>\n",
       "      <td>decreasing</td>\n",
       "    </tr>\n",
       "    <tr>\n",
       "      <th>247</th>\n",
       "      <td>VIPERIDAE</td>\n",
       "      <td>Vipera monticola</td>\n",
       "      <td>Atlas Dwarf Viper</td>\n",
       "      <td>NT</td>\n",
       "      <td>decreasing</td>\n",
       "    </tr>\n",
       "    <tr>\n",
       "      <th>248</th>\n",
       "      <td>VIPERIDAE</td>\n",
       "      <td>Vipera transcaucasiana</td>\n",
       "      <td>Transcaucasian Long-nosed Viper</td>\n",
       "      <td>NT</td>\n",
       "      <td>decreasing</td>\n",
       "    </tr>\n",
       "  </tbody>\n",
       "</table>\n",
       "<p>249 rows × 5 columns</p>\n",
       "</div>"
      ],
      "text/plain": [
       "          Family             Scientific name  \\\n",
       "0     BOLYERIDAE      Bolyeria multocarinata   \n",
       "1     DIPSADIDAE  Borikenophis sanctaecrucis   \n",
       "2    TYPHLOPIDAE             Typhlops cariei   \n",
       "3       ELAPIDAE    Aipysurus apraefrontalis   \n",
       "4       ELAPIDAE       Aipysurus foliosquama   \n",
       "..           ...                         ...   \n",
       "244  TYPHLOPIDAE          Typhlops syntherus   \n",
       "245    VIPERIDAE               Vipera barani   \n",
       "246    VIPERIDAE              Vipera lotievi   \n",
       "247    VIPERIDAE            Vipera monticola   \n",
       "248    VIPERIDAE      Vipera transcaucasiana   \n",
       "\n",
       "                              Common name(s) Red List status Population trend  \n",
       "0                 Round Island Burrowing Boa              EX              NaN  \n",
       "1                          Saint Croix Racer              EX              NaN  \n",
       "2                                        NaN              EX              NaN  \n",
       "3    Sahul Reef Snake, Short-nosed Sea Snake              CR       decreasing  \n",
       "4                      Leaf-scaled Sea Snake              CR       decreasing  \n",
       "..                                       ...             ...              ...  \n",
       "244            Barahona Peninsula Blindsnake              NT          unknown  \n",
       "245                                      NaN              NT       decreasing  \n",
       "246                           Lotiev's Viper              NT       decreasing  \n",
       "247                        Atlas Dwarf Viper              NT       decreasing  \n",
       "248          Transcaucasian Long-nosed Viper              NT       decreasing  \n",
       "\n",
       "[249 rows x 5 columns]"
      ]
     },
     "execution_count": 28,
     "metadata": {},
     "output_type": "execute_result"
    }
   ],
   "source": [
    "df = pd.read_csv('/Users/alessandrasellini/code/projects/snake_conservation_status/raw_data/ConservationStatusofWorldSnakes.csv')\n",
    "df"
   ]
  },
  {
   "cell_type": "code",
   "execution_count": 29,
   "id": "d74b9b13",
   "metadata": {},
   "outputs": [
    {
     "name": "stdout",
     "output_type": "stream",
     "text": [
      "<class 'pandas.core.frame.DataFrame'>\n",
      "RangeIndex: 249 entries, 0 to 248\n",
      "Data columns (total 5 columns):\n",
      " #   Column            Non-Null Count  Dtype \n",
      "---  ------            --------------  ----- \n",
      " 0   Family            249 non-null    object\n",
      " 1   Scientific name   249 non-null    object\n",
      " 2   Common name(s)    174 non-null    object\n",
      " 3   Red List status   249 non-null    object\n",
      " 4   Population trend  219 non-null    object\n",
      "dtypes: object(5)\n",
      "memory usage: 9.9+ KB\n"
     ]
    }
   ],
   "source": [
    "df.info()"
   ]
  },
  {
   "cell_type": "code",
   "execution_count": 59,
   "id": "d006f209",
   "metadata": {},
   "outputs": [
    {
     "data": {
      "text/html": [
       "<div>\n",
       "<style scoped>\n",
       "    .dataframe tbody tr th:only-of-type {\n",
       "        vertical-align: middle;\n",
       "    }\n",
       "\n",
       "    .dataframe tbody tr th {\n",
       "        vertical-align: top;\n",
       "    }\n",
       "\n",
       "    .dataframe thead th {\n",
       "        text-align: right;\n",
       "    }\n",
       "</style>\n",
       "<table border=\"1\" class=\"dataframe\">\n",
       "  <thead>\n",
       "    <tr style=\"text-align: right;\">\n",
       "      <th></th>\n",
       "      <th>Family</th>\n",
       "      <th>Red List status</th>\n",
       "      <th>Population trend</th>\n",
       "    </tr>\n",
       "  </thead>\n",
       "  <tbody>\n",
       "    <tr>\n",
       "      <th>0</th>\n",
       "      <td>BOLYERIDAE</td>\n",
       "      <td>EX</td>\n",
       "      <td>NaN</td>\n",
       "    </tr>\n",
       "    <tr>\n",
       "      <th>1</th>\n",
       "      <td>DIPSADIDAE</td>\n",
       "      <td>EX</td>\n",
       "      <td>NaN</td>\n",
       "    </tr>\n",
       "    <tr>\n",
       "      <th>2</th>\n",
       "      <td>TYPHLOPIDAE</td>\n",
       "      <td>EX</td>\n",
       "      <td>NaN</td>\n",
       "    </tr>\n",
       "    <tr>\n",
       "      <th>3</th>\n",
       "      <td>ELAPIDAE</td>\n",
       "      <td>CR</td>\n",
       "      <td>decreasing</td>\n",
       "    </tr>\n",
       "    <tr>\n",
       "      <th>4</th>\n",
       "      <td>ELAPIDAE</td>\n",
       "      <td>CR</td>\n",
       "      <td>decreasing</td>\n",
       "    </tr>\n",
       "    <tr>\n",
       "      <th>...</th>\n",
       "      <td>...</td>\n",
       "      <td>...</td>\n",
       "      <td>...</td>\n",
       "    </tr>\n",
       "    <tr>\n",
       "      <th>244</th>\n",
       "      <td>TYPHLOPIDAE</td>\n",
       "      <td>NT</td>\n",
       "      <td>unknown</td>\n",
       "    </tr>\n",
       "    <tr>\n",
       "      <th>245</th>\n",
       "      <td>VIPERIDAE</td>\n",
       "      <td>NT</td>\n",
       "      <td>decreasing</td>\n",
       "    </tr>\n",
       "    <tr>\n",
       "      <th>246</th>\n",
       "      <td>VIPERIDAE</td>\n",
       "      <td>NT</td>\n",
       "      <td>decreasing</td>\n",
       "    </tr>\n",
       "    <tr>\n",
       "      <th>247</th>\n",
       "      <td>VIPERIDAE</td>\n",
       "      <td>NT</td>\n",
       "      <td>decreasing</td>\n",
       "    </tr>\n",
       "    <tr>\n",
       "      <th>248</th>\n",
       "      <td>VIPERIDAE</td>\n",
       "      <td>NT</td>\n",
       "      <td>decreasing</td>\n",
       "    </tr>\n",
       "  </tbody>\n",
       "</table>\n",
       "<p>249 rows × 3 columns</p>\n",
       "</div>"
      ],
      "text/plain": [
       "          Family Red List status Population trend\n",
       "0     BOLYERIDAE              EX              NaN\n",
       "1     DIPSADIDAE              EX              NaN\n",
       "2    TYPHLOPIDAE              EX              NaN\n",
       "3       ELAPIDAE              CR       decreasing\n",
       "4       ELAPIDAE              CR       decreasing\n",
       "..           ...             ...              ...\n",
       "244  TYPHLOPIDAE              NT          unknown\n",
       "245    VIPERIDAE              NT       decreasing\n",
       "246    VIPERIDAE              NT       decreasing\n",
       "247    VIPERIDAE              NT       decreasing\n",
       "248    VIPERIDAE              NT       decreasing\n",
       "\n",
       "[249 rows x 3 columns]"
      ]
     },
     "execution_count": 59,
     "metadata": {},
     "output_type": "execute_result"
    }
   ],
   "source": [
    "families = df.drop(columns=['Common name(s)', 'Scientific name'])\n",
    "families"
   ]
  },
  {
   "cell_type": "code",
   "execution_count": 60,
   "id": "8bb4a569",
   "metadata": {},
   "outputs": [
    {
     "name": "stdout",
     "output_type": "stream",
     "text": [
      "<class 'pandas.core.frame.DataFrame'>\n",
      "RangeIndex: 249 entries, 0 to 248\n",
      "Data columns (total 3 columns):\n",
      " #   Column            Non-Null Count  Dtype \n",
      "---  ------            --------------  ----- \n",
      " 0   Family            249 non-null    object\n",
      " 1   Red List status   249 non-null    object\n",
      " 2   Population trend  219 non-null    object\n",
      "dtypes: object(3)\n",
      "memory usage: 6.0+ KB\n"
     ]
    }
   ],
   "source": [
    "families.info()"
   ]
  },
  {
   "cell_type": "code",
   "execution_count": 61,
   "id": "665b6bcd",
   "metadata": {},
   "outputs": [
    {
     "data": {
      "text/html": [
       "<div>\n",
       "<style scoped>\n",
       "    .dataframe tbody tr th:only-of-type {\n",
       "        vertical-align: middle;\n",
       "    }\n",
       "\n",
       "    .dataframe tbody tr th {\n",
       "        vertical-align: top;\n",
       "    }\n",
       "\n",
       "    .dataframe thead th {\n",
       "        text-align: right;\n",
       "    }\n",
       "</style>\n",
       "<table border=\"1\" class=\"dataframe\">\n",
       "  <thead>\n",
       "    <tr style=\"text-align: right;\">\n",
       "      <th></th>\n",
       "      <th>Family</th>\n",
       "      <th>Red List status</th>\n",
       "      <th>Population trend</th>\n",
       "    </tr>\n",
       "  </thead>\n",
       "  <tbody>\n",
       "    <tr>\n",
       "      <th>0</th>\n",
       "      <td>BOLYERIDAE</td>\n",
       "      <td>EX</td>\n",
       "      <td>(possibly) extinct</td>\n",
       "    </tr>\n",
       "    <tr>\n",
       "      <th>1</th>\n",
       "      <td>DIPSADIDAE</td>\n",
       "      <td>EX</td>\n",
       "      <td>(possibly) extinct</td>\n",
       "    </tr>\n",
       "    <tr>\n",
       "      <th>2</th>\n",
       "      <td>TYPHLOPIDAE</td>\n",
       "      <td>EX</td>\n",
       "      <td>(possibly) extinct</td>\n",
       "    </tr>\n",
       "    <tr>\n",
       "      <th>3</th>\n",
       "      <td>ELAPIDAE</td>\n",
       "      <td>CR</td>\n",
       "      <td>decreasing</td>\n",
       "    </tr>\n",
       "    <tr>\n",
       "      <th>4</th>\n",
       "      <td>ELAPIDAE</td>\n",
       "      <td>CR</td>\n",
       "      <td>decreasing</td>\n",
       "    </tr>\n",
       "    <tr>\n",
       "      <th>...</th>\n",
       "      <td>...</td>\n",
       "      <td>...</td>\n",
       "      <td>...</td>\n",
       "    </tr>\n",
       "    <tr>\n",
       "      <th>244</th>\n",
       "      <td>TYPHLOPIDAE</td>\n",
       "      <td>NT</td>\n",
       "      <td>unknown</td>\n",
       "    </tr>\n",
       "    <tr>\n",
       "      <th>245</th>\n",
       "      <td>VIPERIDAE</td>\n",
       "      <td>NT</td>\n",
       "      <td>decreasing</td>\n",
       "    </tr>\n",
       "    <tr>\n",
       "      <th>246</th>\n",
       "      <td>VIPERIDAE</td>\n",
       "      <td>NT</td>\n",
       "      <td>decreasing</td>\n",
       "    </tr>\n",
       "    <tr>\n",
       "      <th>247</th>\n",
       "      <td>VIPERIDAE</td>\n",
       "      <td>NT</td>\n",
       "      <td>decreasing</td>\n",
       "    </tr>\n",
       "    <tr>\n",
       "      <th>248</th>\n",
       "      <td>VIPERIDAE</td>\n",
       "      <td>NT</td>\n",
       "      <td>decreasing</td>\n",
       "    </tr>\n",
       "  </tbody>\n",
       "</table>\n",
       "<p>249 rows × 3 columns</p>\n",
       "</div>"
      ],
      "text/plain": [
       "          Family Red List status    Population trend\n",
       "0     BOLYERIDAE              EX  (possibly) extinct\n",
       "1     DIPSADIDAE              EX  (possibly) extinct\n",
       "2    TYPHLOPIDAE              EX  (possibly) extinct\n",
       "3       ELAPIDAE              CR          decreasing\n",
       "4       ELAPIDAE              CR          decreasing\n",
       "..           ...             ...                 ...\n",
       "244  TYPHLOPIDAE              NT             unknown\n",
       "245    VIPERIDAE              NT          decreasing\n",
       "246    VIPERIDAE              NT          decreasing\n",
       "247    VIPERIDAE              NT          decreasing\n",
       "248    VIPERIDAE              NT          decreasing\n",
       "\n",
       "[249 rows x 3 columns]"
      ]
     },
     "execution_count": 61,
     "metadata": {},
     "output_type": "execute_result"
    }
   ],
   "source": [
    "families.fillna(value='(possibly) extinct', inplace=True)\n",
    "families"
   ]
  },
  {
   "cell_type": "code",
   "execution_count": 62,
   "id": "6033bfc6",
   "metadata": {},
   "outputs": [
    {
     "name": "stdout",
     "output_type": "stream",
     "text": [
      "<class 'pandas.core.frame.DataFrame'>\n",
      "RangeIndex: 249 entries, 0 to 248\n",
      "Data columns (total 3 columns):\n",
      " #   Column            Non-Null Count  Dtype \n",
      "---  ------            --------------  ----- \n",
      " 0   Family            249 non-null    object\n",
      " 1   Red List status   249 non-null    object\n",
      " 2   Population trend  249 non-null    object\n",
      "dtypes: object(3)\n",
      "memory usage: 6.0+ KB\n"
     ]
    }
   ],
   "source": [
    "families.info()"
   ]
  },
  {
   "cell_type": "code",
   "execution_count": 63,
   "id": "d34b9e7d",
   "metadata": {},
   "outputs": [
    {
     "data": {
      "text/plain": [
       "Family              Red List status  Population trend  \n",
       "VIPERIDAE           VU               decreasing            12\n",
       "COLUBRIDAE          NT               decreasing             8\n",
       "VIPERIDAE           EN               decreasing             8\n",
       "                                     unknown                8\n",
       "                    NT               decreasing             8\n",
       "                                                           ..\n",
       "LAMPROPHIIDAE       VU               unknown                1\n",
       "NATRICIDAE          CR               (possibly) extinct     1\n",
       "PROSYMNIDAE         CR               unknown                1\n",
       "PSEUDOXYRHOPHIIDAE  CR               decreasing             1\n",
       "XENOSAURIDAE        VU               decreasing             1\n",
       "Length: 91, dtype: int64"
      ]
     },
     "execution_count": 63,
     "metadata": {},
     "output_type": "execute_result"
    }
   ],
   "source": [
    "families.value_counts()"
   ]
  },
  {
   "cell_type": "code",
   "execution_count": 67,
   "id": "98a14991",
   "metadata": {
    "scrolled": true
   },
   "outputs": [
    {
     "data": {
      "text/plain": [
       "Red List status  Family         Population trend  \n",
       "CR               VIPERIDAE      decreasing            5\n",
       "                 DIPSADIDAE     (possibly) extinct    2\n",
       "                 COLUBRIDAE     unknown               2\n",
       "                 ELAPIDAE       decreasing            2\n",
       "                 COLUBRIDAE     (possibly) extinct    2\n",
       "                                                     ..\n",
       "VU               PYTHONIDAE     unknown               1\n",
       "                                decreasing            1\n",
       "                 HOMALOPSIDAE   decreasing            1\n",
       "                 LAMPROPHIIDAE  unknown               1\n",
       "                 XENOSAURIDAE   decreasing            1\n",
       "Length: 91, dtype: int64"
      ]
     },
     "execution_count": 67,
     "metadata": {},
     "output_type": "execute_result"
    }
   ],
   "source": [
    "status = families.groupby(['Red List status']).value_counts()\n",
    "status"
   ]
  },
  {
   "cell_type": "code",
   "execution_count": 68,
   "id": "83e7b2fe",
   "metadata": {},
   "outputs": [
    {
     "data": {
      "text/plain": [
       "pandas.core.series.Series"
      ]
     },
     "execution_count": 68,
     "metadata": {},
     "output_type": "execute_result"
    }
   ],
   "source": [
    "type(status)"
   ]
  },
  {
   "cell_type": "code",
   "execution_count": 69,
   "id": "2444582c",
   "metadata": {},
   "outputs": [
    {
     "data": {
      "text/html": [
       "<div>\n",
       "<style scoped>\n",
       "    .dataframe tbody tr th:only-of-type {\n",
       "        vertical-align: middle;\n",
       "    }\n",
       "\n",
       "    .dataframe tbody tr th {\n",
       "        vertical-align: top;\n",
       "    }\n",
       "\n",
       "    .dataframe thead th {\n",
       "        text-align: right;\n",
       "    }\n",
       "</style>\n",
       "<table border=\"1\" class=\"dataframe\">\n",
       "  <thead>\n",
       "    <tr style=\"text-align: right;\">\n",
       "      <th></th>\n",
       "      <th></th>\n",
       "      <th></th>\n",
       "      <th>0</th>\n",
       "    </tr>\n",
       "    <tr>\n",
       "      <th>Red List status</th>\n",
       "      <th>Family</th>\n",
       "      <th>Population trend</th>\n",
       "      <th></th>\n",
       "    </tr>\n",
       "  </thead>\n",
       "  <tbody>\n",
       "    <tr>\n",
       "      <th rowspan=\"5\" valign=\"top\">CR</th>\n",
       "      <th>VIPERIDAE</th>\n",
       "      <th>decreasing</th>\n",
       "      <td>5</td>\n",
       "    </tr>\n",
       "    <tr>\n",
       "      <th>DIPSADIDAE</th>\n",
       "      <th>(possibly) extinct</th>\n",
       "      <td>2</td>\n",
       "    </tr>\n",
       "    <tr>\n",
       "      <th>COLUBRIDAE</th>\n",
       "      <th>unknown</th>\n",
       "      <td>2</td>\n",
       "    </tr>\n",
       "    <tr>\n",
       "      <th>ELAPIDAE</th>\n",
       "      <th>decreasing</th>\n",
       "      <td>2</td>\n",
       "    </tr>\n",
       "    <tr>\n",
       "      <th>COLUBRIDAE</th>\n",
       "      <th>(possibly) extinct</th>\n",
       "      <td>2</td>\n",
       "    </tr>\n",
       "    <tr>\n",
       "      <th>...</th>\n",
       "      <th>...</th>\n",
       "      <th>...</th>\n",
       "      <td>...</td>\n",
       "    </tr>\n",
       "    <tr>\n",
       "      <th rowspan=\"5\" valign=\"top\">VU</th>\n",
       "      <th rowspan=\"2\" valign=\"top\">PYTHONIDAE</th>\n",
       "      <th>unknown</th>\n",
       "      <td>1</td>\n",
       "    </tr>\n",
       "    <tr>\n",
       "      <th>decreasing</th>\n",
       "      <td>1</td>\n",
       "    </tr>\n",
       "    <tr>\n",
       "      <th>HOMALOPSIDAE</th>\n",
       "      <th>decreasing</th>\n",
       "      <td>1</td>\n",
       "    </tr>\n",
       "    <tr>\n",
       "      <th>LAMPROPHIIDAE</th>\n",
       "      <th>unknown</th>\n",
       "      <td>1</td>\n",
       "    </tr>\n",
       "    <tr>\n",
       "      <th>XENOSAURIDAE</th>\n",
       "      <th>decreasing</th>\n",
       "      <td>1</td>\n",
       "    </tr>\n",
       "  </tbody>\n",
       "</table>\n",
       "<p>91 rows × 1 columns</p>\n",
       "</div>"
      ],
      "text/plain": [
       "                                                  0\n",
       "Red List status Family        Population trend     \n",
       "CR              VIPERIDAE     decreasing          5\n",
       "                DIPSADIDAE    (possibly) extinct  2\n",
       "                COLUBRIDAE    unknown             2\n",
       "                ELAPIDAE      decreasing          2\n",
       "                COLUBRIDAE    (possibly) extinct  2\n",
       "...                                              ..\n",
       "VU              PYTHONIDAE    unknown             1\n",
       "                              decreasing          1\n",
       "                HOMALOPSIDAE  decreasing          1\n",
       "                LAMPROPHIIDAE unknown             1\n",
       "                XENOSAURIDAE  decreasing          1\n",
       "\n",
       "[91 rows x 1 columns]"
      ]
     },
     "execution_count": 69,
     "metadata": {},
     "output_type": "execute_result"
    }
   ],
   "source": [
    "status = status.to_frame()\n",
    "status"
   ]
  },
  {
   "cell_type": "code",
   "execution_count": null,
   "id": "132ea537",
   "metadata": {},
   "outputs": [],
   "source": []
  },
  {
   "cell_type": "code",
   "execution_count": 66,
   "id": "6bfeb240",
   "metadata": {},
   "outputs": [
    {
     "data": {
      "text/plain": [
       "Population trend    Family          Red List status\n",
       "(possibly) extinct  DIPSADIDAE      EN                  5\n",
       "                    ELAPIDAE        VU                  5\n",
       "                    DIPSADIDAE      CR                  2\n",
       "                    VIPERIDAE       VU                  2\n",
       "                    COLUBRIDAE      CR                  2\n",
       "                    BOLYERIDAE      EX                  1\n",
       "                    CALAMARIIDAE    CR                  1\n",
       "                    COLUBRIDAE      VU                  1\n",
       "                    NATRICIDAE      CR                  1\n",
       "                    XENODERMATIDAE  VU                  1\n",
       "                    VIPERIDAE       CR                  1\n",
       "                    TYPHLOPIDAE     VU                  1\n",
       "                                    EX                  1\n",
       "                                    EN                  1\n",
       "                    PYTHONIDAE      EN                  1\n",
       "                    DIPSADIDAE      VU                  1\n",
       "                    BOLYERIDAE      EN                  1\n",
       "                    DIPSADIDAE      EX                  1\n",
       "                    BOIDAE          VU                  1\n",
       "decreasing          VIPERIDAE       VU                 12\n",
       "dtype: int64"
      ]
     },
     "execution_count": 66,
     "metadata": {},
     "output_type": "execute_result"
    }
   ],
   "source": [
    "families.groupby(['Population trend']).value_counts().head(20)"
   ]
  },
  {
   "cell_type": "code",
   "execution_count": 10,
   "id": "6b65329b",
   "metadata": {},
   "outputs": [
    {
     "name": "stderr",
     "output_type": "stream",
     "text": [
      "/Users/alessandrasellini/.pyenv/versions/3.10.6/envs/snake_conservation_status/lib/python3.10/site-packages/seaborn/distributions.py:269: FutureWarning: In a future version, `df.iloc[:, i] = newvals` will attempt to set the values inplace instead of always setting a new array. To retain the old behavior, use either `df[df.columns[i]] = newvals` or, if columns are non-unique, `df.isetitem(i, newvals)`\n",
      "  baselines.iloc[:, cols] = (curves\n"
     ]
    },
    {
     "data": {
      "text/plain": [
       "<AxesSubplot: xlabel='Red List status', ylabel='Count'>"
      ]
     },
     "execution_count": 10,
     "metadata": {},
     "output_type": "execute_result"
    },
    {
     "data": {
      "image/png": "[encoded data removed]",
      "text/plain": [
       "<Figure size 640x480 with 1 Axes>"
      ]
     },
     "metadata": {},
     "output_type": "display_data"
    }
   ],
   "source": [
    "sns.histplot(df, x='Red List status', hue='Population trend', multiple='stack')"
   ]
  },
  {
   "cell_type": "code",
   "execution_count": 12,
   "id": "c5a67d0b",
   "metadata": {},
   "outputs": [
    {
     "name": "stderr",
     "output_type": "stream",
     "text": [
      "/Users/alessandrasellini/.pyenv/versions/3.10.6/envs/snake_conservation_status/lib/python3.10/site-packages/seaborn/distributions.py:269: FutureWarning: In a future version, `df.iloc[:, i] = newvals` will attempt to set the values inplace instead of always setting a new array. To retain the old behavior, use either `df[df.columns[i]] = newvals` or, if columns are non-unique, `df.isetitem(i, newvals)`\n",
      "  baselines.iloc[:, cols] = (curves\n"
     ]
    },
    {
     "data": {
      "text/plain": [
       "<AxesSubplot: xlabel='Family', ylabel='Count'>"
      ]
     },
     "execution_count": 12,
     "metadata": {},
     "output_type": "execute_result"
    },
    {
     "data": {
      "image/png": "[encoded data removed]",
      "text/plain": [
       "<Figure size 640x480 with 1 Axes>"
      ]
     },
     "metadata": {},
     "output_type": "display_data"
    }
   ],
   "source": [
    "sns.histplot(df, x='Family', hue='Red List status', multiple='stack')"
   ]
  },
  {
   "cell_type": "markdown",
   "id": "80727ad7",
   "metadata": {},
   "source": [
    "### Data pooling and further analysis"
   ]
  },
  {
   "cell_type": "code",
   "execution_count": null,
   "id": "af8adf59",
   "metadata": {},
   "outputs": [],
   "source": []
  }
 ],
 "metadata": {
  "kernelspec": {
   "display_name": "Python 3 (ipykernel)",
   "language": "python",
   "name": "python3"
  },
  "language_info": {
   "codemirror_mode": {
    "name": "ipython",
    "version": 3
   },
   "file_extension": ".py",
   "mimetype": "text/x-python",
   "name": "python",
   "nbconvert_exporter": "python",
   "pygments_lexer": "ipython3",
   "version": "3.10.6"
  },
  "toc": {
   "base_numbering": 1,
   "nav_menu": {},
   "number_sections": true,
   "sideBar": true,
   "skip_h1_title": false,
   "title_cell": "Table of Contents",
   "title_sidebar": "Contents",
   "toc_cell": false,
   "toc_position": {},
   "toc_section_display": true,
   "toc_window_display": false
  },
  "varInspector": {
   "cols": {
    "lenName": 16,
    "lenType": 16,
    "lenVar": 40
   },
   "kernels_config": {
    "python": {
     "delete_cmd_postfix": "",
     "delete_cmd_prefix": "del ",
     "library": "var_list.py",
     "varRefreshCmd": "print(var_dic_list())"
    },
    "r": {
     "delete_cmd_postfix": ") ",
     "delete_cmd_prefix": "rm(",
     "library": "var_list.r",
     "varRefreshCmd": "cat(var_dic_list()) "
    }
   },
   "types_to_exclude": [
    "module",
    "function",
    "builtin_function_or_method",
    "instance",
    "_Feature"
   ],
   "window_display": false
  }
 },
 "nbformat": 4,
 "nbformat_minor": 5
}
