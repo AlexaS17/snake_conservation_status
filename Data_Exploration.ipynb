{
 "cells": [
  {
   "cell_type": "markdown",
   "id": "95973d73",
   "metadata": {},
   "source": [
    "# Dataset"
   ]
  },
  {
   "cell_type": "markdown",
   "id": "0f8974ee",
   "metadata": {},
   "source": [
    "## First exploratory analysis"
   ]
  },
  {
   "cell_type": "code",
   "execution_count": 1,
   "id": "945094e1",
   "metadata": {},
   "outputs": [],
   "source": [
    "import pandas as pd\n",
    "import seaborn as sns\n",
    "import matplotlib as plt\n",
    "import plotly.express as px"
   ]
  },
  {
   "cell_type": "code",
   "execution_count": 2,
   "id": "debf8f86",
   "metadata": {},
   "outputs": [
    {
     "data": {
      "text/html": [
       "<div>\n",
       "<style scoped>\n",
       "    .dataframe tbody tr th:only-of-type {\n",
       "        vertical-align: middle;\n",
       "    }\n",
       "\n",
       "    .dataframe tbody tr th {\n",
       "        vertical-align: top;\n",
       "    }\n",
       "\n",
       "    .dataframe thead th {\n",
       "        text-align: right;\n",
       "    }\n",
       "</style>\n",
       "<table border=\"1\" class=\"dataframe\">\n",
       "  <thead>\n",
       "    <tr style=\"text-align: right;\">\n",
       "      <th></th>\n",
       "      <th>Family</th>\n",
       "      <th>Scientific name</th>\n",
       "      <th>Common name(s)</th>\n",
       "      <th>Red List status</th>\n",
       "      <th>Population trend</th>\n",
       "    </tr>\n",
       "  </thead>\n",
       "  <tbody>\n",
       "    <tr>\n",
       "      <th>0</th>\n",
       "      <td>BOLYERIDAE</td>\n",
       "      <td>Bolyeria multocarinata</td>\n",
       "      <td>Round Island Burrowing Boa</td>\n",
       "      <td>EX</td>\n",
       "      <td>NaN</td>\n",
       "    </tr>\n",
       "    <tr>\n",
       "      <th>1</th>\n",
       "      <td>DIPSADIDAE</td>\n",
       "      <td>Borikenophis sanctaecrucis</td>\n",
       "      <td>Saint Croix Racer</td>\n",
       "      <td>EX</td>\n",
       "      <td>NaN</td>\n",
       "    </tr>\n",
       "    <tr>\n",
       "      <th>2</th>\n",
       "      <td>TYPHLOPIDAE</td>\n",
       "      <td>Typhlops cariei</td>\n",
       "      <td>NaN</td>\n",
       "      <td>EX</td>\n",
       "      <td>NaN</td>\n",
       "    </tr>\n",
       "    <tr>\n",
       "      <th>3</th>\n",
       "      <td>ELAPIDAE</td>\n",
       "      <td>Aipysurus apraefrontalis</td>\n",
       "      <td>Sahul Reef Snake, Short-nosed Sea Snake</td>\n",
       "      <td>CR</td>\n",
       "      <td>decreasing</td>\n",
       "    </tr>\n",
       "    <tr>\n",
       "      <th>4</th>\n",
       "      <td>ELAPIDAE</td>\n",
       "      <td>Aipysurus foliosquama</td>\n",
       "      <td>Leaf-scaled Sea Snake</td>\n",
       "      <td>CR</td>\n",
       "      <td>decreasing</td>\n",
       "    </tr>\n",
       "    <tr>\n",
       "      <th>...</th>\n",
       "      <td>...</td>\n",
       "      <td>...</td>\n",
       "      <td>...</td>\n",
       "      <td>...</td>\n",
       "      <td>...</td>\n",
       "    </tr>\n",
       "    <tr>\n",
       "      <th>244</th>\n",
       "      <td>TYPHLOPIDAE</td>\n",
       "      <td>Typhlops syntherus</td>\n",
       "      <td>Barahona Peninsula Blindsnake</td>\n",
       "      <td>NT</td>\n",
       "      <td>unknown</td>\n",
       "    </tr>\n",
       "    <tr>\n",
       "      <th>245</th>\n",
       "      <td>VIPERIDAE</td>\n",
       "      <td>Vipera barani</td>\n",
       "      <td>NaN</td>\n",
       "      <td>NT</td>\n",
       "      <td>decreasing</td>\n",
       "    </tr>\n",
       "    <tr>\n",
       "      <th>246</th>\n",
       "      <td>VIPERIDAE</td>\n",
       "      <td>Vipera lotievi</td>\n",
       "      <td>Lotiev's Viper</td>\n",
       "      <td>NT</td>\n",
       "      <td>decreasing</td>\n",
       "    </tr>\n",
       "    <tr>\n",
       "      <th>247</th>\n",
       "      <td>VIPERIDAE</td>\n",
       "      <td>Vipera monticola</td>\n",
       "      <td>Atlas Dwarf Viper</td>\n",
       "      <td>NT</td>\n",
       "      <td>decreasing</td>\n",
       "    </tr>\n",
       "    <tr>\n",
       "      <th>248</th>\n",
       "      <td>VIPERIDAE</td>\n",
       "      <td>Vipera transcaucasiana</td>\n",
       "      <td>Transcaucasian Long-nosed Viper</td>\n",
       "      <td>NT</td>\n",
       "      <td>decreasing</td>\n",
       "    </tr>\n",
       "  </tbody>\n",
       "</table>\n",
       "<p>249 rows × 5 columns</p>\n",
       "</div>"
      ],
      "text/plain": [
       "          Family             Scientific name  \\\n",
       "0     BOLYERIDAE      Bolyeria multocarinata   \n",
       "1     DIPSADIDAE  Borikenophis sanctaecrucis   \n",
       "2    TYPHLOPIDAE             Typhlops cariei   \n",
       "3       ELAPIDAE    Aipysurus apraefrontalis   \n",
       "4       ELAPIDAE       Aipysurus foliosquama   \n",
       "..           ...                         ...   \n",
       "244  TYPHLOPIDAE          Typhlops syntherus   \n",
       "245    VIPERIDAE               Vipera barani   \n",
       "246    VIPERIDAE              Vipera lotievi   \n",
       "247    VIPERIDAE            Vipera monticola   \n",
       "248    VIPERIDAE      Vipera transcaucasiana   \n",
       "\n",
       "                              Common name(s) Red List status Population trend  \n",
       "0                 Round Island Burrowing Boa              EX              NaN  \n",
       "1                          Saint Croix Racer              EX              NaN  \n",
       "2                                        NaN              EX              NaN  \n",
       "3    Sahul Reef Snake, Short-nosed Sea Snake              CR       decreasing  \n",
       "4                      Leaf-scaled Sea Snake              CR       decreasing  \n",
       "..                                       ...             ...              ...  \n",
       "244            Barahona Peninsula Blindsnake              NT          unknown  \n",
       "245                                      NaN              NT       decreasing  \n",
       "246                           Lotiev's Viper              NT       decreasing  \n",
       "247                        Atlas Dwarf Viper              NT       decreasing  \n",
       "248          Transcaucasian Long-nosed Viper              NT       decreasing  \n",
       "\n",
       "[249 rows x 5 columns]"
      ]
     },
     "execution_count": 2,
     "metadata": {},
     "output_type": "execute_result"
    }
   ],
   "source": [
    "df = pd.read_csv('/Users/alessandrasellini/code/projects/snake_conservation_status/raw_data/ConservationStatusofWorldSnakes.csv')\n",
    "df"
   ]
  },
  {
   "cell_type": "code",
   "execution_count": 3,
   "id": "c4bf7cce",
   "metadata": {},
   "outputs": [
    {
     "name": "stdout",
     "output_type": "stream",
     "text": [
      "<class 'pandas.core.frame.DataFrame'>\n",
      "RangeIndex: 249 entries, 0 to 248\n",
      "Data columns (total 5 columns):\n",
      " #   Column            Non-Null Count  Dtype \n",
      "---  ------            --------------  ----- \n",
      " 0   Family            249 non-null    object\n",
      " 1   Scientific name   249 non-null    object\n",
      " 2   Common name(s)    174 non-null    object\n",
      " 3   Red List status   249 non-null    object\n",
      " 4   Population trend  219 non-null    object\n",
      "dtypes: object(5)\n",
      "memory usage: 9.9+ KB\n"
     ]
    }
   ],
   "source": [
    "df.info()"
   ]
  },
  {
   "cell_type": "code",
   "execution_count": 4,
   "id": "c7b9ccb9",
   "metadata": {},
   "outputs": [
    {
     "data": {
      "text/html": [
       "<div>\n",
       "<style scoped>\n",
       "    .dataframe tbody tr th:only-of-type {\n",
       "        vertical-align: middle;\n",
       "    }\n",
       "\n",
       "    .dataframe tbody tr th {\n",
       "        vertical-align: top;\n",
       "    }\n",
       "\n",
       "    .dataframe thead th {\n",
       "        text-align: right;\n",
       "    }\n",
       "</style>\n",
       "<table border=\"1\" class=\"dataframe\">\n",
       "  <thead>\n",
       "    <tr style=\"text-align: right;\">\n",
       "      <th></th>\n",
       "      <th>Family</th>\n",
       "      <th>Scientific name</th>\n",
       "      <th>Common name(s)</th>\n",
       "      <th>Red List status</th>\n",
       "      <th>Population trend</th>\n",
       "    </tr>\n",
       "  </thead>\n",
       "  <tbody>\n",
       "    <tr>\n",
       "      <th>count</th>\n",
       "      <td>249</td>\n",
       "      <td>249</td>\n",
       "      <td>174</td>\n",
       "      <td>249</td>\n",
       "      <td>219</td>\n",
       "    </tr>\n",
       "    <tr>\n",
       "      <th>unique</th>\n",
       "      <td>18</td>\n",
       "      <td>249</td>\n",
       "      <td>174</td>\n",
       "      <td>5</td>\n",
       "      <td>4</td>\n",
       "    </tr>\n",
       "    <tr>\n",
       "      <th>top</th>\n",
       "      <td>VIPERIDAE</td>\n",
       "      <td>Bolyeria multocarinata</td>\n",
       "      <td>Round Island Burrowing Boa</td>\n",
       "      <td>VU</td>\n",
       "      <td>decreasing</td>\n",
       "    </tr>\n",
       "    <tr>\n",
       "      <th>freq</th>\n",
       "      <td>56</td>\n",
       "      <td>1</td>\n",
       "      <td>1</td>\n",
       "      <td>86</td>\n",
       "      <td>118</td>\n",
       "    </tr>\n",
       "  </tbody>\n",
       "</table>\n",
       "</div>"
      ],
      "text/plain": [
       "           Family         Scientific name              Common name(s)  \\\n",
       "count         249                     249                         174   \n",
       "unique         18                     249                         174   \n",
       "top     VIPERIDAE  Bolyeria multocarinata  Round Island Burrowing Boa   \n",
       "freq           56                       1                           1   \n",
       "\n",
       "       Red List status Population trend  \n",
       "count              249              219  \n",
       "unique               5                4  \n",
       "top                 VU       decreasing  \n",
       "freq                86              118  "
      ]
     },
     "execution_count": 4,
     "metadata": {},
     "output_type": "execute_result"
    }
   ],
   "source": [
    "df.describe()"
   ]
  },
  {
   "cell_type": "markdown",
   "id": "94149d2f",
   "metadata": {},
   "source": [
    "### Analysis for families"
   ]
  },
  {
   "cell_type": "code",
   "execution_count": 5,
   "id": "ece13076",
   "metadata": {},
   "outputs": [
    {
     "data": {
      "text/html": [
       "<div>\n",
       "<style scoped>\n",
       "    .dataframe tbody tr th:only-of-type {\n",
       "        vertical-align: middle;\n",
       "    }\n",
       "\n",
       "    .dataframe tbody tr th {\n",
       "        vertical-align: top;\n",
       "    }\n",
       "\n",
       "    .dataframe thead th {\n",
       "        text-align: right;\n",
       "    }\n",
       "</style>\n",
       "<table border=\"1\" class=\"dataframe\">\n",
       "  <thead>\n",
       "    <tr style=\"text-align: right;\">\n",
       "      <th></th>\n",
       "      <th>Family</th>\n",
       "      <th>Red List status</th>\n",
       "      <th>Population trend</th>\n",
       "    </tr>\n",
       "  </thead>\n",
       "  <tbody>\n",
       "    <tr>\n",
       "      <th>0</th>\n",
       "      <td>BOLYERIDAE</td>\n",
       "      <td>EX</td>\n",
       "      <td>NaN</td>\n",
       "    </tr>\n",
       "    <tr>\n",
       "      <th>1</th>\n",
       "      <td>DIPSADIDAE</td>\n",
       "      <td>EX</td>\n",
       "      <td>NaN</td>\n",
       "    </tr>\n",
       "    <tr>\n",
       "      <th>2</th>\n",
       "      <td>TYPHLOPIDAE</td>\n",
       "      <td>EX</td>\n",
       "      <td>NaN</td>\n",
       "    </tr>\n",
       "    <tr>\n",
       "      <th>3</th>\n",
       "      <td>ELAPIDAE</td>\n",
       "      <td>CR</td>\n",
       "      <td>decreasing</td>\n",
       "    </tr>\n",
       "    <tr>\n",
       "      <th>4</th>\n",
       "      <td>ELAPIDAE</td>\n",
       "      <td>CR</td>\n",
       "      <td>decreasing</td>\n",
       "    </tr>\n",
       "    <tr>\n",
       "      <th>...</th>\n",
       "      <td>...</td>\n",
       "      <td>...</td>\n",
       "      <td>...</td>\n",
       "    </tr>\n",
       "    <tr>\n",
       "      <th>244</th>\n",
       "      <td>TYPHLOPIDAE</td>\n",
       "      <td>NT</td>\n",
       "      <td>unknown</td>\n",
       "    </tr>\n",
       "    <tr>\n",
       "      <th>245</th>\n",
       "      <td>VIPERIDAE</td>\n",
       "      <td>NT</td>\n",
       "      <td>decreasing</td>\n",
       "    </tr>\n",
       "    <tr>\n",
       "      <th>246</th>\n",
       "      <td>VIPERIDAE</td>\n",
       "      <td>NT</td>\n",
       "      <td>decreasing</td>\n",
       "    </tr>\n",
       "    <tr>\n",
       "      <th>247</th>\n",
       "      <td>VIPERIDAE</td>\n",
       "      <td>NT</td>\n",
       "      <td>decreasing</td>\n",
       "    </tr>\n",
       "    <tr>\n",
       "      <th>248</th>\n",
       "      <td>VIPERIDAE</td>\n",
       "      <td>NT</td>\n",
       "      <td>decreasing</td>\n",
       "    </tr>\n",
       "  </tbody>\n",
       "</table>\n",
       "<p>249 rows × 3 columns</p>\n",
       "</div>"
      ],
      "text/plain": [
       "          Family Red List status Population trend\n",
       "0     BOLYERIDAE              EX              NaN\n",
       "1     DIPSADIDAE              EX              NaN\n",
       "2    TYPHLOPIDAE              EX              NaN\n",
       "3       ELAPIDAE              CR       decreasing\n",
       "4       ELAPIDAE              CR       decreasing\n",
       "..           ...             ...              ...\n",
       "244  TYPHLOPIDAE              NT          unknown\n",
       "245    VIPERIDAE              NT       decreasing\n",
       "246    VIPERIDAE              NT       decreasing\n",
       "247    VIPERIDAE              NT       decreasing\n",
       "248    VIPERIDAE              NT       decreasing\n",
       "\n",
       "[249 rows x 3 columns]"
      ]
     },
     "execution_count": 5,
     "metadata": {},
     "output_type": "execute_result"
    }
   ],
   "source": [
    "# population trend filled fofr (possibly) extinct species\n",
    "\n",
    "families = df.drop(columns=['Common name(s)', 'Scientific name'])\n",
    "families"
   ]
  },
  {
   "cell_type": "code",
   "execution_count": 6,
   "id": "a4273bd4",
   "metadata": {},
   "outputs": [
    {
     "data": {
      "text/html": [
       "<div>\n",
       "<style scoped>\n",
       "    .dataframe tbody tr th:only-of-type {\n",
       "        vertical-align: middle;\n",
       "    }\n",
       "\n",
       "    .dataframe tbody tr th {\n",
       "        vertical-align: top;\n",
       "    }\n",
       "\n",
       "    .dataframe thead th {\n",
       "        text-align: right;\n",
       "    }\n",
       "</style>\n",
       "<table border=\"1\" class=\"dataframe\">\n",
       "  <thead>\n",
       "    <tr style=\"text-align: right;\">\n",
       "      <th></th>\n",
       "      <th>Family</th>\n",
       "      <th>Red List status</th>\n",
       "      <th>Population trend</th>\n",
       "    </tr>\n",
       "  </thead>\n",
       "  <tbody>\n",
       "    <tr>\n",
       "      <th>0</th>\n",
       "      <td>BOLYERIDAE</td>\n",
       "      <td>EX</td>\n",
       "      <td>(possibly) extinct</td>\n",
       "    </tr>\n",
       "    <tr>\n",
       "      <th>1</th>\n",
       "      <td>DIPSADIDAE</td>\n",
       "      <td>EX</td>\n",
       "      <td>(possibly) extinct</td>\n",
       "    </tr>\n",
       "    <tr>\n",
       "      <th>2</th>\n",
       "      <td>TYPHLOPIDAE</td>\n",
       "      <td>EX</td>\n",
       "      <td>(possibly) extinct</td>\n",
       "    </tr>\n",
       "    <tr>\n",
       "      <th>3</th>\n",
       "      <td>ELAPIDAE</td>\n",
       "      <td>CR</td>\n",
       "      <td>decreasing</td>\n",
       "    </tr>\n",
       "    <tr>\n",
       "      <th>4</th>\n",
       "      <td>ELAPIDAE</td>\n",
       "      <td>CR</td>\n",
       "      <td>decreasing</td>\n",
       "    </tr>\n",
       "    <tr>\n",
       "      <th>...</th>\n",
       "      <td>...</td>\n",
       "      <td>...</td>\n",
       "      <td>...</td>\n",
       "    </tr>\n",
       "    <tr>\n",
       "      <th>244</th>\n",
       "      <td>TYPHLOPIDAE</td>\n",
       "      <td>NT</td>\n",
       "      <td>unknown</td>\n",
       "    </tr>\n",
       "    <tr>\n",
       "      <th>245</th>\n",
       "      <td>VIPERIDAE</td>\n",
       "      <td>NT</td>\n",
       "      <td>decreasing</td>\n",
       "    </tr>\n",
       "    <tr>\n",
       "      <th>246</th>\n",
       "      <td>VIPERIDAE</td>\n",
       "      <td>NT</td>\n",
       "      <td>decreasing</td>\n",
       "    </tr>\n",
       "    <tr>\n",
       "      <th>247</th>\n",
       "      <td>VIPERIDAE</td>\n",
       "      <td>NT</td>\n",
       "      <td>decreasing</td>\n",
       "    </tr>\n",
       "    <tr>\n",
       "      <th>248</th>\n",
       "      <td>VIPERIDAE</td>\n",
       "      <td>NT</td>\n",
       "      <td>decreasing</td>\n",
       "    </tr>\n",
       "  </tbody>\n",
       "</table>\n",
       "<p>249 rows × 3 columns</p>\n",
       "</div>"
      ],
      "text/plain": [
       "          Family Red List status    Population trend\n",
       "0     BOLYERIDAE              EX  (possibly) extinct\n",
       "1     DIPSADIDAE              EX  (possibly) extinct\n",
       "2    TYPHLOPIDAE              EX  (possibly) extinct\n",
       "3       ELAPIDAE              CR          decreasing\n",
       "4       ELAPIDAE              CR          decreasing\n",
       "..           ...             ...                 ...\n",
       "244  TYPHLOPIDAE              NT             unknown\n",
       "245    VIPERIDAE              NT          decreasing\n",
       "246    VIPERIDAE              NT          decreasing\n",
       "247    VIPERIDAE              NT          decreasing\n",
       "248    VIPERIDAE              NT          decreasing\n",
       "\n",
       "[249 rows x 3 columns]"
      ]
     },
     "execution_count": 6,
     "metadata": {},
     "output_type": "execute_result"
    }
   ],
   "source": [
    "families.fillna(value='(possibly) extinct', inplace=True)\n",
    "families"
   ]
  },
  {
   "cell_type": "code",
   "execution_count": 7,
   "id": "d1148ff5",
   "metadata": {},
   "outputs": [
    {
     "name": "stdout",
     "output_type": "stream",
     "text": [
      "<class 'pandas.core.frame.DataFrame'>\n",
      "RangeIndex: 249 entries, 0 to 248\n",
      "Data columns (total 3 columns):\n",
      " #   Column            Non-Null Count  Dtype \n",
      "---  ------            --------------  ----- \n",
      " 0   Family            249 non-null    object\n",
      " 1   Red List status   249 non-null    object\n",
      " 2   Population trend  249 non-null    object\n",
      "dtypes: object(3)\n",
      "memory usage: 6.0+ KB\n"
     ]
    }
   ],
   "source": [
    "families.info()"
   ]
  },
  {
   "cell_type": "code",
   "execution_count": 8,
   "id": "152f05dd",
   "metadata": {},
   "outputs": [
    {
     "data": {
      "text/html": [
       "<div>\n",
       "<style scoped>\n",
       "    .dataframe tbody tr th:only-of-type {\n",
       "        vertical-align: middle;\n",
       "    }\n",
       "\n",
       "    .dataframe tbody tr th {\n",
       "        vertical-align: top;\n",
       "    }\n",
       "\n",
       "    .dataframe thead th {\n",
       "        text-align: right;\n",
       "    }\n",
       "</style>\n",
       "<table border=\"1\" class=\"dataframe\">\n",
       "  <thead>\n",
       "    <tr style=\"text-align: right;\">\n",
       "      <th></th>\n",
       "      <th>Family</th>\n",
       "      <th>Red List status</th>\n",
       "      <th>Population trend</th>\n",
       "    </tr>\n",
       "  </thead>\n",
       "  <tbody>\n",
       "    <tr>\n",
       "      <th>count</th>\n",
       "      <td>249</td>\n",
       "      <td>249</td>\n",
       "      <td>249</td>\n",
       "    </tr>\n",
       "    <tr>\n",
       "      <th>unique</th>\n",
       "      <td>18</td>\n",
       "      <td>5</td>\n",
       "      <td>5</td>\n",
       "    </tr>\n",
       "    <tr>\n",
       "      <th>top</th>\n",
       "      <td>VIPERIDAE</td>\n",
       "      <td>VU</td>\n",
       "      <td>decreasing</td>\n",
       "    </tr>\n",
       "    <tr>\n",
       "      <th>freq</th>\n",
       "      <td>56</td>\n",
       "      <td>86</td>\n",
       "      <td>118</td>\n",
       "    </tr>\n",
       "  </tbody>\n",
       "</table>\n",
       "</div>"
      ],
      "text/plain": [
       "           Family Red List status Population trend\n",
       "count         249             249              249\n",
       "unique         18               5                5\n",
       "top     VIPERIDAE              VU       decreasing\n",
       "freq           56              86              118"
      ]
     },
     "execution_count": 8,
     "metadata": {},
     "output_type": "execute_result"
    }
   ],
   "source": [
    "families.describe()"
   ]
  },
  {
   "cell_type": "code",
   "execution_count": 9,
   "id": "9b02465b",
   "metadata": {},
   "outputs": [
    {
     "data": {
      "text/plain": [
       "Family\n",
       "VIPERIDAE             56\n",
       "COLUBRIDAE            40\n",
       "PSEUDOXYRHOPHIIDAE    31\n",
       "DIPSADIDAE            30\n",
       "ELAPIDAE              29\n",
       "NATRICIDAE            22\n",
       "TYPHLOPIDAE           14\n",
       "CALAMARIIDAE           6\n",
       "PYTHONIDAE             3\n",
       "XENOSAURIDAE           3\n",
       "BOIDAE                 3\n",
       "HOMALOPSIDAE           3\n",
       "LAMPROPHIIDAE          2\n",
       "BOLYERIDAE             2\n",
       "AMPHISBAENIDAE         2\n",
       "PROSYMNIDAE            1\n",
       "UROPELTIDAE            1\n",
       "XENODERMATIDAE         1\n",
       "dtype: int64"
      ]
     },
     "execution_count": 9,
     "metadata": {},
     "output_type": "execute_result"
    }
   ],
   "source": [
    "families.value_counts('Family')"
   ]
  },
  {
   "cell_type": "code",
   "execution_count": 10,
   "id": "6476e86b",
   "metadata": {},
   "outputs": [
    {
     "data": {
      "text/plain": [
       "Family              Red List status  Population trend  \n",
       "VIPERIDAE           VU               decreasing            12\n",
       "COLUBRIDAE          NT               decreasing             8\n",
       "VIPERIDAE           EN               decreasing             8\n",
       "                                     unknown                8\n",
       "                    NT               decreasing             8\n",
       "                                                           ..\n",
       "LAMPROPHIIDAE       VU               unknown                1\n",
       "NATRICIDAE          CR               (possibly) extinct     1\n",
       "PROSYMNIDAE         CR               unknown                1\n",
       "PSEUDOXYRHOPHIIDAE  CR               decreasing             1\n",
       "XENOSAURIDAE        VU               decreasing             1\n",
       "Length: 91, dtype: int64"
      ]
     },
     "execution_count": 10,
     "metadata": {},
     "output_type": "execute_result"
    }
   ],
   "source": [
    "families.value_counts()"
   ]
  },
  {
   "cell_type": "code",
   "execution_count": 11,
   "id": "18d88643",
   "metadata": {},
   "outputs": [
    {
     "data": {
      "text/html": [
       "<div>\n",
       "<style scoped>\n",
       "    .dataframe tbody tr th:only-of-type {\n",
       "        vertical-align: middle;\n",
       "    }\n",
       "\n",
       "    .dataframe tbody tr th {\n",
       "        vertical-align: top;\n",
       "    }\n",
       "\n",
       "    .dataframe thead th {\n",
       "        text-align: right;\n",
       "    }\n",
       "</style>\n",
       "<table border=\"1\" class=\"dataframe\">\n",
       "  <thead>\n",
       "    <tr style=\"text-align: right;\">\n",
       "      <th></th>\n",
       "      <th></th>\n",
       "      <th></th>\n",
       "      <th>0</th>\n",
       "    </tr>\n",
       "    <tr>\n",
       "      <th>Family</th>\n",
       "      <th>Red List status</th>\n",
       "      <th>Population trend</th>\n",
       "      <th></th>\n",
       "    </tr>\n",
       "  </thead>\n",
       "  <tbody>\n",
       "    <tr>\n",
       "      <th rowspan=\"2\" valign=\"top\">AMPHISBAENIDAE</th>\n",
       "      <th rowspan=\"2\" valign=\"top\">NT</th>\n",
       "      <th>decreasing</th>\n",
       "      <td>1</td>\n",
       "    </tr>\n",
       "    <tr>\n",
       "      <th>unknown</th>\n",
       "      <td>1</td>\n",
       "    </tr>\n",
       "    <tr>\n",
       "      <th rowspan=\"2\" valign=\"top\">BOIDAE</th>\n",
       "      <th>EN</th>\n",
       "      <th>unknown</th>\n",
       "      <td>2</td>\n",
       "    </tr>\n",
       "    <tr>\n",
       "      <th>VU</th>\n",
       "      <th>(possibly) extinct</th>\n",
       "      <td>1</td>\n",
       "    </tr>\n",
       "    <tr>\n",
       "      <th>BOLYERIDAE</th>\n",
       "      <th>EN</th>\n",
       "      <th>(possibly) extinct</th>\n",
       "      <td>1</td>\n",
       "    </tr>\n",
       "    <tr>\n",
       "      <th>...</th>\n",
       "      <th>...</th>\n",
       "      <th>...</th>\n",
       "      <td>...</td>\n",
       "    </tr>\n",
       "    <tr>\n",
       "      <th rowspan=\"2\" valign=\"top\">VIPERIDAE</th>\n",
       "      <th>VU</th>\n",
       "      <th>stable</th>\n",
       "      <td>1</td>\n",
       "    </tr>\n",
       "    <tr>\n",
       "      <th>CR</th>\n",
       "      <th>(possibly) extinct</th>\n",
       "      <td>1</td>\n",
       "    </tr>\n",
       "    <tr>\n",
       "      <th>XENODERMATIDAE</th>\n",
       "      <th>VU</th>\n",
       "      <th>(possibly) extinct</th>\n",
       "      <td>1</td>\n",
       "    </tr>\n",
       "    <tr>\n",
       "      <th rowspan=\"2\" valign=\"top\">XENOSAURIDAE</th>\n",
       "      <th>EN</th>\n",
       "      <th>decreasing</th>\n",
       "      <td>2</td>\n",
       "    </tr>\n",
       "    <tr>\n",
       "      <th>VU</th>\n",
       "      <th>decreasing</th>\n",
       "      <td>1</td>\n",
       "    </tr>\n",
       "  </tbody>\n",
       "</table>\n",
       "<p>91 rows × 1 columns</p>\n",
       "</div>"
      ],
      "text/plain": [
       "                                                   0\n",
       "Family         Red List status Population trend     \n",
       "AMPHISBAENIDAE NT              decreasing          1\n",
       "                               unknown             1\n",
       "BOIDAE         EN              unknown             2\n",
       "               VU              (possibly) extinct  1\n",
       "BOLYERIDAE     EN              (possibly) extinct  1\n",
       "...                                               ..\n",
       "VIPERIDAE      VU              stable              1\n",
       "               CR              (possibly) extinct  1\n",
       "XENODERMATIDAE VU              (possibly) extinct  1\n",
       "XENOSAURIDAE   EN              decreasing          2\n",
       "               VU              decreasing          1\n",
       "\n",
       "[91 rows x 1 columns]"
      ]
     },
     "execution_count": 11,
     "metadata": {},
     "output_type": "execute_result"
    }
   ],
   "source": [
    "status = families.groupby(['Family']).value_counts().to_frame()\n",
    "status"
   ]
  },
  {
   "cell_type": "code",
   "execution_count": 12,
   "id": "37be9ed2",
   "metadata": {},
   "outputs": [],
   "source": [
    "status.reset_index(inplace=True)"
   ]
  },
  {
   "cell_type": "code",
   "execution_count": 13,
   "id": "f9b578ca",
   "metadata": {},
   "outputs": [
    {
     "data": {
      "text/html": [
       "<div>\n",
       "<style scoped>\n",
       "    .dataframe tbody tr th:only-of-type {\n",
       "        vertical-align: middle;\n",
       "    }\n",
       "\n",
       "    .dataframe tbody tr th {\n",
       "        vertical-align: top;\n",
       "    }\n",
       "\n",
       "    .dataframe thead th {\n",
       "        text-align: right;\n",
       "    }\n",
       "</style>\n",
       "<table border=\"1\" class=\"dataframe\">\n",
       "  <thead>\n",
       "    <tr style=\"text-align: right;\">\n",
       "      <th></th>\n",
       "      <th>Family</th>\n",
       "      <th>Red List status</th>\n",
       "      <th>Population trend</th>\n",
       "      <th>0</th>\n",
       "    </tr>\n",
       "  </thead>\n",
       "  <tbody>\n",
       "    <tr>\n",
       "      <th>0</th>\n",
       "      <td>AMPHISBAENIDAE</td>\n",
       "      <td>NT</td>\n",
       "      <td>decreasing</td>\n",
       "      <td>1</td>\n",
       "    </tr>\n",
       "    <tr>\n",
       "      <th>1</th>\n",
       "      <td>AMPHISBAENIDAE</td>\n",
       "      <td>NT</td>\n",
       "      <td>unknown</td>\n",
       "      <td>1</td>\n",
       "    </tr>\n",
       "    <tr>\n",
       "      <th>2</th>\n",
       "      <td>BOIDAE</td>\n",
       "      <td>EN</td>\n",
       "      <td>unknown</td>\n",
       "      <td>2</td>\n",
       "    </tr>\n",
       "    <tr>\n",
       "      <th>3</th>\n",
       "      <td>BOIDAE</td>\n",
       "      <td>VU</td>\n",
       "      <td>(possibly) extinct</td>\n",
       "      <td>1</td>\n",
       "    </tr>\n",
       "    <tr>\n",
       "      <th>4</th>\n",
       "      <td>BOLYERIDAE</td>\n",
       "      <td>EN</td>\n",
       "      <td>(possibly) extinct</td>\n",
       "      <td>1</td>\n",
       "    </tr>\n",
       "    <tr>\n",
       "      <th>...</th>\n",
       "      <td>...</td>\n",
       "      <td>...</td>\n",
       "      <td>...</td>\n",
       "      <td>...</td>\n",
       "    </tr>\n",
       "    <tr>\n",
       "      <th>86</th>\n",
       "      <td>VIPERIDAE</td>\n",
       "      <td>VU</td>\n",
       "      <td>stable</td>\n",
       "      <td>1</td>\n",
       "    </tr>\n",
       "    <tr>\n",
       "      <th>87</th>\n",
       "      <td>VIPERIDAE</td>\n",
       "      <td>CR</td>\n",
       "      <td>(possibly) extinct</td>\n",
       "      <td>1</td>\n",
       "    </tr>\n",
       "    <tr>\n",
       "      <th>88</th>\n",
       "      <td>XENODERMATIDAE</td>\n",
       "      <td>VU</td>\n",
       "      <td>(possibly) extinct</td>\n",
       "      <td>1</td>\n",
       "    </tr>\n",
       "    <tr>\n",
       "      <th>89</th>\n",
       "      <td>XENOSAURIDAE</td>\n",
       "      <td>EN</td>\n",
       "      <td>decreasing</td>\n",
       "      <td>2</td>\n",
       "    </tr>\n",
       "    <tr>\n",
       "      <th>90</th>\n",
       "      <td>XENOSAURIDAE</td>\n",
       "      <td>VU</td>\n",
       "      <td>decreasing</td>\n",
       "      <td>1</td>\n",
       "    </tr>\n",
       "  </tbody>\n",
       "</table>\n",
       "<p>91 rows × 4 columns</p>\n",
       "</div>"
      ],
      "text/plain": [
       "            Family Red List status    Population trend  0\n",
       "0   AMPHISBAENIDAE              NT          decreasing  1\n",
       "1   AMPHISBAENIDAE              NT             unknown  1\n",
       "2           BOIDAE              EN             unknown  2\n",
       "3           BOIDAE              VU  (possibly) extinct  1\n",
       "4       BOLYERIDAE              EN  (possibly) extinct  1\n",
       "..             ...             ...                 ... ..\n",
       "86       VIPERIDAE              VU              stable  1\n",
       "87       VIPERIDAE              CR  (possibly) extinct  1\n",
       "88  XENODERMATIDAE              VU  (possibly) extinct  1\n",
       "89    XENOSAURIDAE              EN          decreasing  2\n",
       "90    XENOSAURIDAE              VU          decreasing  1\n",
       "\n",
       "[91 rows x 4 columns]"
      ]
     },
     "execution_count": 13,
     "metadata": {},
     "output_type": "execute_result"
    }
   ],
   "source": [
    "status"
   ]
  },
  {
   "cell_type": "code",
   "execution_count": 17,
   "id": "20972974",
   "metadata": {},
   "outputs": [
    {
     "data": {
      "text/html": [
       "<div>\n",
       "<style scoped>\n",
       "    .dataframe tbody tr th:only-of-type {\n",
       "        vertical-align: middle;\n",
       "    }\n",
       "\n",
       "    .dataframe tbody tr th {\n",
       "        vertical-align: top;\n",
       "    }\n",
       "\n",
       "    .dataframe thead th {\n",
       "        text-align: right;\n",
       "    }\n",
       "</style>\n",
       "<table border=\"1\" class=\"dataframe\">\n",
       "  <thead>\n",
       "    <tr style=\"text-align: right;\">\n",
       "      <th></th>\n",
       "      <th>Family</th>\n",
       "      <th>Red List status</th>\n",
       "      <th>Population trend</th>\n",
       "      <th>Count</th>\n",
       "    </tr>\n",
       "  </thead>\n",
       "  <tbody>\n",
       "    <tr>\n",
       "      <th>0</th>\n",
       "      <td>AMPHISBAENIDAE</td>\n",
       "      <td>NT</td>\n",
       "      <td>decreasing</td>\n",
       "      <td>1</td>\n",
       "    </tr>\n",
       "    <tr>\n",
       "      <th>1</th>\n",
       "      <td>AMPHISBAENIDAE</td>\n",
       "      <td>NT</td>\n",
       "      <td>unknown</td>\n",
       "      <td>1</td>\n",
       "    </tr>\n",
       "    <tr>\n",
       "      <th>2</th>\n",
       "      <td>BOIDAE</td>\n",
       "      <td>EN</td>\n",
       "      <td>unknown</td>\n",
       "      <td>2</td>\n",
       "    </tr>\n",
       "    <tr>\n",
       "      <th>3</th>\n",
       "      <td>BOIDAE</td>\n",
       "      <td>VU</td>\n",
       "      <td>(possibly) extinct</td>\n",
       "      <td>1</td>\n",
       "    </tr>\n",
       "    <tr>\n",
       "      <th>4</th>\n",
       "      <td>BOLYERIDAE</td>\n",
       "      <td>EN</td>\n",
       "      <td>(possibly) extinct</td>\n",
       "      <td>1</td>\n",
       "    </tr>\n",
       "    <tr>\n",
       "      <th>...</th>\n",
       "      <td>...</td>\n",
       "      <td>...</td>\n",
       "      <td>...</td>\n",
       "      <td>...</td>\n",
       "    </tr>\n",
       "    <tr>\n",
       "      <th>86</th>\n",
       "      <td>VIPERIDAE</td>\n",
       "      <td>VU</td>\n",
       "      <td>stable</td>\n",
       "      <td>1</td>\n",
       "    </tr>\n",
       "    <tr>\n",
       "      <th>87</th>\n",
       "      <td>VIPERIDAE</td>\n",
       "      <td>CR</td>\n",
       "      <td>(possibly) extinct</td>\n",
       "      <td>1</td>\n",
       "    </tr>\n",
       "    <tr>\n",
       "      <th>88</th>\n",
       "      <td>XENODERMATIDAE</td>\n",
       "      <td>VU</td>\n",
       "      <td>(possibly) extinct</td>\n",
       "      <td>1</td>\n",
       "    </tr>\n",
       "    <tr>\n",
       "      <th>89</th>\n",
       "      <td>XENOSAURIDAE</td>\n",
       "      <td>EN</td>\n",
       "      <td>decreasing</td>\n",
       "      <td>2</td>\n",
       "    </tr>\n",
       "    <tr>\n",
       "      <th>90</th>\n",
       "      <td>XENOSAURIDAE</td>\n",
       "      <td>VU</td>\n",
       "      <td>decreasing</td>\n",
       "      <td>1</td>\n",
       "    </tr>\n",
       "  </tbody>\n",
       "</table>\n",
       "<p>91 rows × 4 columns</p>\n",
       "</div>"
      ],
      "text/plain": [
       "            Family Red List status    Population trend  Count\n",
       "0   AMPHISBAENIDAE              NT          decreasing      1\n",
       "1   AMPHISBAENIDAE              NT             unknown      1\n",
       "2           BOIDAE              EN             unknown      2\n",
       "3           BOIDAE              VU  (possibly) extinct      1\n",
       "4       BOLYERIDAE              EN  (possibly) extinct      1\n",
       "..             ...             ...                 ...    ...\n",
       "86       VIPERIDAE              VU              stable      1\n",
       "87       VIPERIDAE              CR  (possibly) extinct      1\n",
       "88  XENODERMATIDAE              VU  (possibly) extinct      1\n",
       "89    XENOSAURIDAE              EN          decreasing      2\n",
       "90    XENOSAURIDAE              VU          decreasing      1\n",
       "\n",
       "[91 rows x 4 columns]"
      ]
     },
     "execution_count": 17,
     "metadata": {},
     "output_type": "execute_result"
    }
   ],
   "source": [
    "status.rename(columns = {0:'Count'}, inplace=True) \n",
    "status"
   ]
  },
  {
   "cell_type": "markdown",
   "id": "33650438",
   "metadata": {},
   "source": [
    "### Visualisation"
   ]
  },
  {
   "cell_type": "code",
   "execution_count": 19,
   "id": "f197cc3e",
   "metadata": {},
   "outputs": [
    {
     "data": {
      "application/vnd.plotly.v1+json": {
       "config": {
        "plotlyServerURL": "https://plot.ly"
       },
       "data": [
        {
         "hovertemplate": "Population trend=decreasing<br>Family=%{x}<br>Red List status=%{y}<br>Count=%{marker.size}<extra></extra>",
         "legendgroup": "decreasing",
         "marker": {
          "color": "#636efa",
          "opacity": 0.5,
          "size": [
           1,
           1,
           1,
           8,
           7,
           5,
           2,
           6,
           3,
           6,
           4,
           2,
           1,
           1,
           1,
           1,
           7,
           6,
           2,
           6,
           5,
           3,
           1,
           1,
           1,
           12,
           8,
           8,
           5,
           2,
           1
          ],
          "sizemode": "area",
          "sizeref": 0.0033333333333333335,
          "symbol": "circle"
         },
         "mode": "markers",
         "name": "decreasing",
         "orientation": "v",
         "showlegend": true,
         "type": "scatter",
         "x": [
          "AMPHISBAENIDAE",
          "CALAMARIIDAE",
          "CALAMARIIDAE",
          "COLUBRIDAE",
          "COLUBRIDAE",
          "COLUBRIDAE",
          "COLUBRIDAE",
          "DIPSADIDAE",
          "DIPSADIDAE",
          "ELAPIDAE",
          "ELAPIDAE",
          "ELAPIDAE",
          "ELAPIDAE",
          "HOMALOPSIDAE",
          "HOMALOPSIDAE",
          "LAMPROPHIIDAE",
          "NATRICIDAE",
          "NATRICIDAE",
          "NATRICIDAE",
          "PSEUDOXYRHOPHIIDAE",
          "PSEUDOXYRHOPHIIDAE",
          "PSEUDOXYRHOPHIIDAE",
          "PSEUDOXYRHOPHIIDAE",
          "PYTHONIDAE",
          "TYPHLOPIDAE",
          "VIPERIDAE",
          "VIPERIDAE",
          "VIPERIDAE",
          "VIPERIDAE",
          "XENOSAURIDAE",
          "XENOSAURIDAE"
         ],
         "xaxis": "x",
         "y": [
          "NT",
          "EN",
          "VU",
          "NT",
          "EN",
          "VU",
          "CR",
          "VU",
          "EN",
          "VU",
          "NT",
          "CR",
          "EN",
          "VU",
          "EN",
          "EN",
          "VU",
          "EN",
          "NT",
          "VU",
          "EN",
          "NT",
          "CR",
          "VU",
          "EN",
          "VU",
          "EN",
          "NT",
          "CR",
          "EN",
          "VU"
         ],
         "yaxis": "y"
        },
        {
         "hovertemplate": "Population trend=unknown<br>Family=%{x}<br>Red List status=%{y}<br>Count=%{marker.size}<extra></extra>",
         "legendgroup": "unknown",
         "marker": {
          "color": "#EF553B",
          "opacity": 0.5,
          "size": [
           1,
           2,
           1,
           1,
           1,
           5,
           3,
           2,
           2,
           5,
           3,
           3,
           4,
           4,
           2,
           1,
           1,
           1,
           4,
           1,
           7,
           4,
           3,
           1,
           1,
           5,
           2,
           2,
           1,
           1,
           8,
           5,
           3
          ],
          "sizemode": "area",
          "sizeref": 0.0033333333333333335,
          "symbol": "circle"
         },
         "mode": "markers",
         "name": "unknown",
         "orientation": "v",
         "showlegend": true,
         "type": "scatter",
         "x": [
          "AMPHISBAENIDAE",
          "BOIDAE",
          "CALAMARIIDAE",
          "CALAMARIIDAE",
          "CALAMARIIDAE",
          "COLUBRIDAE",
          "COLUBRIDAE",
          "COLUBRIDAE",
          "COLUBRIDAE",
          "DIPSADIDAE",
          "DIPSADIDAE",
          "DIPSADIDAE",
          "ELAPIDAE",
          "ELAPIDAE",
          "ELAPIDAE",
          "ELAPIDAE",
          "HOMALOPSIDAE",
          "LAMPROPHIIDAE",
          "NATRICIDAE",
          "PROSYMNIDAE",
          "PSEUDOXYRHOPHIIDAE",
          "PSEUDOXYRHOPHIIDAE",
          "PSEUDOXYRHOPHIIDAE",
          "PSEUDOXYRHOPHIIDAE",
          "PYTHONIDAE",
          "TYPHLOPIDAE",
          "TYPHLOPIDAE",
          "TYPHLOPIDAE",
          "TYPHLOPIDAE",
          "UROPELTIDAE",
          "VIPERIDAE",
          "VIPERIDAE",
          "VIPERIDAE"
         ],
         "xaxis": "x",
         "y": [
          "NT",
          "EN",
          "CR",
          "EN",
          "VU",
          "VU",
          "EN",
          "NT",
          "CR",
          "VU",
          "NT",
          "EN",
          "NT",
          "VU",
          "EN",
          "CR",
          "EN",
          "VU",
          "NT",
          "CR",
          "NT",
          "VU",
          "EN",
          "CR",
          "VU",
          "EN",
          "CR",
          "NT",
          "VU",
          "NT",
          "EN",
          "VU",
          "NT"
         ],
         "yaxis": "y"
        },
        {
         "hovertemplate": "Population trend=(possibly) extinct<br>Family=%{x}<br>Red List status=%{y}<br>Count=%{marker.size}<extra></extra>",
         "legendgroup": "(possibly) extinct",
         "marker": {
          "color": "#00cc96",
          "opacity": 0.5,
          "size": [
           1,
           1,
           1,
           1,
           2,
           1,
           5,
           2,
           1,
           1,
           5,
           1,
           1,
           1,
           1,
           1,
           2,
           1,
           1
          ],
          "sizemode": "area",
          "sizeref": 0.0033333333333333335,
          "symbol": "circle"
         },
         "mode": "markers",
         "name": "(possibly) extinct",
         "orientation": "v",
         "showlegend": true,
         "type": "scatter",
         "x": [
          "BOIDAE",
          "BOLYERIDAE",
          "BOLYERIDAE",
          "CALAMARIIDAE",
          "COLUBRIDAE",
          "COLUBRIDAE",
          "DIPSADIDAE",
          "DIPSADIDAE",
          "DIPSADIDAE",
          "DIPSADIDAE",
          "ELAPIDAE",
          "NATRICIDAE",
          "PYTHONIDAE",
          "TYPHLOPIDAE",
          "TYPHLOPIDAE",
          "TYPHLOPIDAE",
          "VIPERIDAE",
          "VIPERIDAE",
          "XENODERMATIDAE"
         ],
         "xaxis": "x",
         "y": [
          "VU",
          "EN",
          "EX",
          "CR",
          "CR",
          "VU",
          "EN",
          "CR",
          "EX",
          "VU",
          "VU",
          "CR",
          "EN",
          "EN",
          "EX",
          "VU",
          "VU",
          "CR",
          "VU"
         ],
         "yaxis": "y"
        },
        {
         "hovertemplate": "Population trend=stable<br>Family=%{x}<br>Red List status=%{y}<br>Count=%{marker.size}<extra></extra>",
         "legendgroup": "stable",
         "marker": {
          "color": "#ab63fa",
          "opacity": 0.5,
          "size": [
           2,
           1,
           2,
           1,
           2,
           1,
           1
          ],
          "sizemode": "area",
          "sizeref": 0.0033333333333333335,
          "symbol": "circle"
         },
         "mode": "markers",
         "name": "stable",
         "orientation": "v",
         "showlegend": true,
         "type": "scatter",
         "x": [
          "COLUBRIDAE",
          "COLUBRIDAE",
          "NATRICIDAE",
          "PSEUDOXYRHOPHIIDAE",
          "VIPERIDAE",
          "VIPERIDAE",
          "VIPERIDAE"
         ],
         "xaxis": "x",
         "y": [
          "NT",
          "EN",
          "NT",
          "NT",
          "CR",
          "EN",
          "VU"
         ],
         "yaxis": "y"
        },
        {
         "hovertemplate": "Population trend=increasing<br>Family=%{x}<br>Red List status=%{y}<br>Count=%{marker.size}<extra></extra>",
         "legendgroup": "increasing",
         "marker": {
          "color": "#FFA15A",
          "opacity": 0.5,
          "size": [
           1
          ],
          "sizemode": "area",
          "sizeref": 0.0033333333333333335,
          "symbol": "circle"
         },
         "mode": "markers",
         "name": "increasing",
         "orientation": "v",
         "showlegend": true,
         "type": "scatter",
         "x": [
          "DIPSADIDAE"
         ],
         "xaxis": "x",
         "y": [
          "CR"
         ],
         "yaxis": "y"
        }
       ],
       "layout": {
        "legend": {
         "itemsizing": "constant",
         "title": {
          "text": "Population trend"
         },
         "tracegroupgap": 0
        },
        "margin": {
         "t": 60
        },
        "template": {
         "data": {
          "bar": [
           {
            "error_x": {
             "color": "#2a3f5f"
            },
            "error_y": {
             "color": "#2a3f5f"
            },
            "marker": {
             "line": {
              "color": "#E5ECF6",
              "width": 0.5
             },
             "pattern": {
              "fillmode": "overlay",
              "size": 10,
              "solidity": 0.2
             }
            },
            "type": "bar"
           }
          ],
          "barpolar": [
           {
            "marker": {
             "line": {
              "color": "#E5ECF6",
              "width": 0.5
             },
             "pattern": {
              "fillmode": "overlay",
              "size": 10,
              "solidity": 0.2
             }
            },
            "type": "barpolar"
           }
          ],
          "carpet": [
           {
            "aaxis": {
             "endlinecolor": "#2a3f5f",
             "gridcolor": "white",
             "linecolor": "white",
             "minorgridcolor": "white",
             "startlinecolor": "#2a3f5f"
            },
            "baxis": {
             "endlinecolor": "#2a3f5f",
             "gridcolor": "white",
             "linecolor": "white",
             "minorgridcolor": "white",
             "startlinecolor": "#2a3f5f"
            },
            "type": "carpet"
           }
          ],
          "choropleth": [
           {
            "colorbar": {
             "outlinewidth": 0,
             "ticks": ""
            },
            "type": "choropleth"
           }
          ],
          "contour": [
           {
            "colorbar": {
             "outlinewidth": 0,
             "ticks": ""
            },
            "colorscale": [
             [
              0,
              "#0d0887"
             ],
             [
              0.1111111111111111,
              "#46039f"
             ],
             [
              0.2222222222222222,
              "#7201a8"
             ],
             [
              0.3333333333333333,
              "#9c179e"
             ],
             [
              0.4444444444444444,
              "#bd3786"
             ],
             [
              0.5555555555555556,
              "#d8576b"
             ],
             [
              0.6666666666666666,
              "#ed7953"
             ],
             [
              0.7777777777777778,
              "#fb9f3a"
             ],
             [
              0.8888888888888888,
              "#fdca26"
             ],
             [
              1,
              "#f0f921"
             ]
            ],
            "type": "contour"
           }
          ],
          "contourcarpet": [
           {
            "colorbar": {
             "outlinewidth": 0,
             "ticks": ""
            },
            "type": "contourcarpet"
           }
          ],
          "heatmap": [
           {
            "colorbar": {
             "outlinewidth": 0,
             "ticks": ""
            },
            "colorscale": [
             [
              0,
              "#0d0887"
             ],
             [
              0.1111111111111111,
              "#46039f"
             ],
             [
              0.2222222222222222,
              "#7201a8"
             ],
             [
              0.3333333333333333,
              "#9c179e"
             ],
             [
              0.4444444444444444,
              "#bd3786"
             ],
             [
              0.5555555555555556,
              "#d8576b"
             ],
             [
              0.6666666666666666,
              "#ed7953"
             ],
             [
              0.7777777777777778,
              "#fb9f3a"
             ],
             [
              0.8888888888888888,
              "#fdca26"
             ],
             [
              1,
              "#f0f921"
             ]
            ],
            "type": "heatmap"
           }
          ],
          "heatmapgl": [
           {
            "colorbar": {
             "outlinewidth": 0,
             "ticks": ""
            },
            "colorscale": [
             [
              0,
              "#0d0887"
             ],
             [
              0.1111111111111111,
              "#46039f"
             ],
             [
              0.2222222222222222,
              "#7201a8"
             ],
             [
              0.3333333333333333,
              "#9c179e"
             ],
             [
              0.4444444444444444,
              "#bd3786"
             ],
             [
              0.5555555555555556,
              "#d8576b"
             ],
             [
              0.6666666666666666,
              "#ed7953"
             ],
             [
              0.7777777777777778,
              "#fb9f3a"
             ],
             [
              0.8888888888888888,
              "#fdca26"
             ],
             [
              1,
              "#f0f921"
             ]
            ],
            "type": "heatmapgl"
           }
          ],
          "histogram": [
           {
            "marker": {
             "pattern": {
              "fillmode": "overlay",
              "size": 10,
              "solidity": 0.2
             }
            },
            "type": "histogram"
           }
          ],
          "histogram2d": [
           {
            "colorbar": {
             "outlinewidth": 0,
             "ticks": ""
            },
            "colorscale": [
             [
              0,
              "#0d0887"
             ],
             [
              0.1111111111111111,
              "#46039f"
             ],
             [
              0.2222222222222222,
              "#7201a8"
             ],
             [
              0.3333333333333333,
              "#9c179e"
             ],
             [
              0.4444444444444444,
              "#bd3786"
             ],
             [
              0.5555555555555556,
              "#d8576b"
             ],
             [
              0.6666666666666666,
              "#ed7953"
             ],
             [
              0.7777777777777778,
              "#fb9f3a"
             ],
             [
              0.8888888888888888,
              "#fdca26"
             ],
             [
              1,
              "#f0f921"
             ]
            ],
            "type": "histogram2d"
           }
          ],
          "histogram2dcontour": [
           {
            "colorbar": {
             "outlinewidth": 0,
             "ticks": ""
            },
            "colorscale": [
             [
              0,
              "#0d0887"
             ],
             [
              0.1111111111111111,
              "#46039f"
             ],
             [
              0.2222222222222222,
              "#7201a8"
             ],
             [
              0.3333333333333333,
              "#9c179e"
             ],
             [
              0.4444444444444444,
              "#bd3786"
             ],
             [
              0.5555555555555556,
              "#d8576b"
             ],
             [
              0.6666666666666666,
              "#ed7953"
             ],
             [
              0.7777777777777778,
              "#fb9f3a"
             ],
             [
              0.8888888888888888,
              "#fdca26"
             ],
             [
              1,
              "#f0f921"
             ]
            ],
            "type": "histogram2dcontour"
           }
          ],
          "mesh3d": [
           {
            "colorbar": {
             "outlinewidth": 0,
             "ticks": ""
            },
            "type": "mesh3d"
           }
          ],
          "parcoords": [
           {
            "line": {
             "colorbar": {
              "outlinewidth": 0,
              "ticks": ""
             }
            },
            "type": "parcoords"
           }
          ],
          "pie": [
           {
            "automargin": true,
            "type": "pie"
           }
          ],
          "scatter": [
           {
            "fillpattern": {
             "fillmode": "overlay",
             "size": 10,
             "solidity": 0.2
            },
            "type": "scatter"
           }
          ],
          "scatter3d": [
           {
            "line": {
             "colorbar": {
              "outlinewidth": 0,
              "ticks": ""
             }
            },
            "marker": {
             "colorbar": {
              "outlinewidth": 0,
              "ticks": ""
             }
            },
            "type": "scatter3d"
           }
          ],
          "scattercarpet": [
           {
            "marker": {
             "colorbar": {
              "outlinewidth": 0,
              "ticks": ""
             }
            },
            "type": "scattercarpet"
           }
          ],
          "scattergeo": [
           {
            "marker": {
             "colorbar": {
              "outlinewidth": 0,
              "ticks": ""
             }
            },
            "type": "scattergeo"
           }
          ],
          "scattergl": [
           {
            "marker": {
             "colorbar": {
              "outlinewidth": 0,
              "ticks": ""
             }
            },
            "type": "scattergl"
           }
          ],
          "scattermapbox": [
           {
            "marker": {
             "colorbar": {
              "outlinewidth": 0,
              "ticks": ""
             }
            },
            "type": "scattermapbox"
           }
          ],
          "scatterpolar": [
           {
            "marker": {
             "colorbar": {
              "outlinewidth": 0,
              "ticks": ""
             }
            },
            "type": "scatterpolar"
           }
          ],
          "scatterpolargl": [
           {
            "marker": {
             "colorbar": {
              "outlinewidth": 0,
              "ticks": ""
             }
            },
            "type": "scatterpolargl"
           }
          ],
          "scatterternary": [
           {
            "marker": {
             "colorbar": {
              "outlinewidth": 0,
              "ticks": ""
             }
            },
            "type": "scatterternary"
           }
          ],
          "surface": [
           {
            "colorbar": {
             "outlinewidth": 0,
             "ticks": ""
            },
            "colorscale": [
             [
              0,
              "#0d0887"
             ],
             [
              0.1111111111111111,
              "#46039f"
             ],
             [
              0.2222222222222222,
              "#7201a8"
             ],
             [
              0.3333333333333333,
              "#9c179e"
             ],
             [
              0.4444444444444444,
              "#bd3786"
             ],
             [
              0.5555555555555556,
              "#d8576b"
             ],
             [
              0.6666666666666666,
              "#ed7953"
             ],
             [
              0.7777777777777778,
              "#fb9f3a"
             ],
             [
              0.8888888888888888,
              "#fdca26"
             ],
             [
              1,
              "#f0f921"
             ]
            ],
            "type": "surface"
           }
          ],
          "table": [
           {
            "cells": {
             "fill": {
              "color": "#EBF0F8"
             },
             "line": {
              "color": "white"
             }
            },
            "header": {
             "fill": {
              "color": "#C8D4E3"
             },
             "line": {
              "color": "white"
             }
            },
            "type": "table"
           }
          ]
         },
         "layout": {
          "annotationdefaults": {
           "arrowcolor": "#2a3f5f",
           "arrowhead": 0,
           "arrowwidth": 1
          },
          "autotypenumbers": "strict",
          "coloraxis": {
           "colorbar": {
            "outlinewidth": 0,
            "ticks": ""
           }
          },
          "colorscale": {
           "diverging": [
            [
             0,
             "#8e0152"
            ],
            [
             0.1,
             "#c51b7d"
            ],
            [
             0.2,
             "#de77ae"
            ],
            [
             0.3,
             "#f1b6da"
            ],
            [
             0.4,
             "#fde0ef"
            ],
            [
             0.5,
             "#f7f7f7"
            ],
            [
             0.6,
             "#e6f5d0"
            ],
            [
             0.7,
             "#b8e186"
            ],
            [
             0.8,
             "#7fbc41"
            ],
            [
             0.9,
             "#4d9221"
            ],
            [
             1,
             "#276419"
            ]
           ],
           "sequential": [
            [
             0,
             "#0d0887"
            ],
            [
             0.1111111111111111,
             "#46039f"
            ],
            [
             0.2222222222222222,
             "#7201a8"
            ],
            [
             0.3333333333333333,
             "#9c179e"
            ],
            [
             0.4444444444444444,
             "#bd3786"
            ],
            [
             0.5555555555555556,
             "#d8576b"
            ],
            [
             0.6666666666666666,
             "#ed7953"
            ],
            [
             0.7777777777777778,
             "#fb9f3a"
            ],
            [
             0.8888888888888888,
             "#fdca26"
            ],
            [
             1,
             "#f0f921"
            ]
           ],
           "sequentialminus": [
            [
             0,
             "#0d0887"
            ],
            [
             0.1111111111111111,
             "#46039f"
            ],
            [
             0.2222222222222222,
             "#7201a8"
            ],
            [
             0.3333333333333333,
             "#9c179e"
            ],
            [
             0.4444444444444444,
             "#bd3786"
            ],
            [
             0.5555555555555556,
             "#d8576b"
            ],
            [
             0.6666666666666666,
             "#ed7953"
            ],
            [
             0.7777777777777778,
             "#fb9f3a"
            ],
            [
             0.8888888888888888,
             "#fdca26"
            ],
            [
             1,
             "#f0f921"
            ]
           ]
          },
          "colorway": [
           "#636efa",
           "#EF553B",
           "#00cc96",
           "#ab63fa",
           "#FFA15A",
           "#19d3f3",
           "#FF6692",
           "#B6E880",
           "#FF97FF",
           "#FECB52"
          ],
          "font": {
           "color": "#2a3f5f"
          },
          "geo": {
           "bgcolor": "white",
           "lakecolor": "white",
           "landcolor": "#E5ECF6",
           "showlakes": true,
           "showland": true,
           "subunitcolor": "white"
          },
          "hoverlabel": {
           "align": "left"
          },
          "hovermode": "closest",
          "mapbox": {
           "style": "light"
          },
          "paper_bgcolor": "white",
          "plot_bgcolor": "#E5ECF6",
          "polar": {
           "angularaxis": {
            "gridcolor": "white",
            "linecolor": "white",
            "ticks": ""
           },
           "bgcolor": "#E5ECF6",
           "radialaxis": {
            "gridcolor": "white",
            "linecolor": "white",
            "ticks": ""
           }
          },
          "scene": {
           "xaxis": {
            "backgroundcolor": "#E5ECF6",
            "gridcolor": "white",
            "gridwidth": 2,
            "linecolor": "white",
            "showbackground": true,
            "ticks": "",
            "zerolinecolor": "white"
           },
           "yaxis": {
            "backgroundcolor": "#E5ECF6",
            "gridcolor": "white",
            "gridwidth": 2,
            "linecolor": "white",
            "showbackground": true,
            "ticks": "",
            "zerolinecolor": "white"
           },
           "zaxis": {
            "backgroundcolor": "#E5ECF6",
            "gridcolor": "white",
            "gridwidth": 2,
            "linecolor": "white",
            "showbackground": true,
            "ticks": "",
            "zerolinecolor": "white"
           }
          },
          "shapedefaults": {
           "line": {
            "color": "#2a3f5f"
           }
          },
          "ternary": {
           "aaxis": {
            "gridcolor": "white",
            "linecolor": "white",
            "ticks": ""
           },
           "baxis": {
            "gridcolor": "white",
            "linecolor": "white",
            "ticks": ""
           },
           "bgcolor": "#E5ECF6",
           "caxis": {
            "gridcolor": "white",
            "linecolor": "white",
            "ticks": ""
           }
          },
          "title": {
           "x": 0.05
          },
          "xaxis": {
           "automargin": true,
           "gridcolor": "white",
           "linecolor": "white",
           "ticks": "",
           "title": {
            "standoff": 15
           },
           "zerolinecolor": "white",
           "zerolinewidth": 2
          },
          "yaxis": {
           "automargin": true,
           "gridcolor": "white",
           "linecolor": "white",
           "ticks": "",
           "title": {
            "standoff": 15
           },
           "zerolinecolor": "white",
           "zerolinewidth": 2
          }
         }
        },
        "xaxis": {
         "anchor": "y",
         "domain": [
          0,
          1
         ],
         "title": {
          "text": "Family"
         }
        },
        "yaxis": {
         "anchor": "x",
         "domain": [
          0,
          1
         ],
         "title": {
          "text": "Red List status"
         }
        }
       }
      },
      "text/html": [
       "<div>                            <div id=\"b7197a44-9f09-4a7b-8c1f-d8578ddbddb2\" class=\"plotly-graph-div\" style=\"height:525px; width:100%;\"></div>            <script type=\"text/javascript\">                require([\"plotly\"], function(Plotly) {                    window.PLOTLYENV=window.PLOTLYENV || {};                                    if (document.getElementById(\"b7197a44-9f09-4a7b-8c1f-d8578ddbddb2\")) {                    Plotly.newPlot(                        \"b7197a44-9f09-4a7b-8c1f-d8578ddbddb2\",                        [{\"hovertemplate\":\"Population trend=decreasing<br>Family=%{x}<br>Red List status=%{y}<br>Count=%{marker.size}<extra></extra>\",\"legendgroup\":\"decreasing\",\"marker\":{\"color\":\"#636efa\",\"opacity\":0.5,\"size\":[1,1,1,8,7,5,2,6,3,6,4,2,1,1,1,1,7,6,2,6,5,3,1,1,1,12,8,8,5,2,1],\"sizemode\":\"area\",\"sizeref\":0.0033333333333333335,\"symbol\":\"circle\"},\"mode\":\"markers\",\"name\":\"decreasing\",\"orientation\":\"v\",\"showlegend\":true,\"x\":[\"AMPHISBAENIDAE\",\"CALAMARIIDAE\",\"CALAMARIIDAE\",\"COLUBRIDAE\",\"COLUBRIDAE\",\"COLUBRIDAE\",\"COLUBRIDAE\",\"DIPSADIDAE\",\"DIPSADIDAE\",\"ELAPIDAE\",\"ELAPIDAE\",\"ELAPIDAE\",\"ELAPIDAE\",\"HOMALOPSIDAE\",\"HOMALOPSIDAE\",\"LAMPROPHIIDAE\",\"NATRICIDAE\",\"NATRICIDAE\",\"NATRICIDAE\",\"PSEUDOXYRHOPHIIDAE\",\"PSEUDOXYRHOPHIIDAE\",\"PSEUDOXYRHOPHIIDAE\",\"PSEUDOXYRHOPHIIDAE\",\"PYTHONIDAE\",\"TYPHLOPIDAE\",\"VIPERIDAE\",\"VIPERIDAE\",\"VIPERIDAE\",\"VIPERIDAE\",\"XENOSAURIDAE\",\"XENOSAURIDAE\"],\"xaxis\":\"x\",\"y\":[\"NT\",\"EN\",\"VU\",\"NT\",\"EN\",\"VU\",\"CR\",\"VU\",\"EN\",\"VU\",\"NT\",\"CR\",\"EN\",\"VU\",\"EN\",\"EN\",\"VU\",\"EN\",\"NT\",\"VU\",\"EN\",\"NT\",\"CR\",\"VU\",\"EN\",\"VU\",\"EN\",\"NT\",\"CR\",\"EN\",\"VU\"],\"yaxis\":\"y\",\"type\":\"scatter\"},{\"hovertemplate\":\"Population trend=unknown<br>Family=%{x}<br>Red List status=%{y}<br>Count=%{marker.size}<extra></extra>\",\"legendgroup\":\"unknown\",\"marker\":{\"color\":\"#EF553B\",\"opacity\":0.5,\"size\":[1,2,1,1,1,5,3,2,2,5,3,3,4,4,2,1,1,1,4,1,7,4,3,1,1,5,2,2,1,1,8,5,3],\"sizemode\":\"area\",\"sizeref\":0.0033333333333333335,\"symbol\":\"circle\"},\"mode\":\"markers\",\"name\":\"unknown\",\"orientation\":\"v\",\"showlegend\":true,\"x\":[\"AMPHISBAENIDAE\",\"BOIDAE\",\"CALAMARIIDAE\",\"CALAMARIIDAE\",\"CALAMARIIDAE\",\"COLUBRIDAE\",\"COLUBRIDAE\",\"COLUBRIDAE\",\"COLUBRIDAE\",\"DIPSADIDAE\",\"DIPSADIDAE\",\"DIPSADIDAE\",\"ELAPIDAE\",\"ELAPIDAE\",\"ELAPIDAE\",\"ELAPIDAE\",\"HOMALOPSIDAE\",\"LAMPROPHIIDAE\",\"NATRICIDAE\",\"PROSYMNIDAE\",\"PSEUDOXYRHOPHIIDAE\",\"PSEUDOXYRHOPHIIDAE\",\"PSEUDOXYRHOPHIIDAE\",\"PSEUDOXYRHOPHIIDAE\",\"PYTHONIDAE\",\"TYPHLOPIDAE\",\"TYPHLOPIDAE\",\"TYPHLOPIDAE\",\"TYPHLOPIDAE\",\"UROPELTIDAE\",\"VIPERIDAE\",\"VIPERIDAE\",\"VIPERIDAE\"],\"xaxis\":\"x\",\"y\":[\"NT\",\"EN\",\"CR\",\"EN\",\"VU\",\"VU\",\"EN\",\"NT\",\"CR\",\"VU\",\"NT\",\"EN\",\"NT\",\"VU\",\"EN\",\"CR\",\"EN\",\"VU\",\"NT\",\"CR\",\"NT\",\"VU\",\"EN\",\"CR\",\"VU\",\"EN\",\"CR\",\"NT\",\"VU\",\"NT\",\"EN\",\"VU\",\"NT\"],\"yaxis\":\"y\",\"type\":\"scatter\"},{\"hovertemplate\":\"Population trend=(possibly) extinct<br>Family=%{x}<br>Red List status=%{y}<br>Count=%{marker.size}<extra></extra>\",\"legendgroup\":\"(possibly) extinct\",\"marker\":{\"color\":\"#00cc96\",\"opacity\":0.5,\"size\":[1,1,1,1,2,1,5,2,1,1,5,1,1,1,1,1,2,1,1],\"sizemode\":\"area\",\"sizeref\":0.0033333333333333335,\"symbol\":\"circle\"},\"mode\":\"markers\",\"name\":\"(possibly) extinct\",\"orientation\":\"v\",\"showlegend\":true,\"x\":[\"BOIDAE\",\"BOLYERIDAE\",\"BOLYERIDAE\",\"CALAMARIIDAE\",\"COLUBRIDAE\",\"COLUBRIDAE\",\"DIPSADIDAE\",\"DIPSADIDAE\",\"DIPSADIDAE\",\"DIPSADIDAE\",\"ELAPIDAE\",\"NATRICIDAE\",\"PYTHONIDAE\",\"TYPHLOPIDAE\",\"TYPHLOPIDAE\",\"TYPHLOPIDAE\",\"VIPERIDAE\",\"VIPERIDAE\",\"XENODERMATIDAE\"],\"xaxis\":\"x\",\"y\":[\"VU\",\"EN\",\"EX\",\"CR\",\"CR\",\"VU\",\"EN\",\"CR\",\"EX\",\"VU\",\"VU\",\"CR\",\"EN\",\"EN\",\"EX\",\"VU\",\"VU\",\"CR\",\"VU\"],\"yaxis\":\"y\",\"type\":\"scatter\"},{\"hovertemplate\":\"Population trend=stable<br>Family=%{x}<br>Red List status=%{y}<br>Count=%{marker.size}<extra></extra>\",\"legendgroup\":\"stable\",\"marker\":{\"color\":\"#ab63fa\",\"opacity\":0.5,\"size\":[2,1,2,1,2,1,1],\"sizemode\":\"area\",\"sizeref\":0.0033333333333333335,\"symbol\":\"circle\"},\"mode\":\"markers\",\"name\":\"stable\",\"orientation\":\"v\",\"showlegend\":true,\"x\":[\"COLUBRIDAE\",\"COLUBRIDAE\",\"NATRICIDAE\",\"PSEUDOXYRHOPHIIDAE\",\"VIPERIDAE\",\"VIPERIDAE\",\"VIPERIDAE\"],\"xaxis\":\"x\",\"y\":[\"NT\",\"EN\",\"NT\",\"NT\",\"CR\",\"EN\",\"VU\"],\"yaxis\":\"y\",\"type\":\"scatter\"},{\"hovertemplate\":\"Population trend=increasing<br>Family=%{x}<br>Red List status=%{y}<br>Count=%{marker.size}<extra></extra>\",\"legendgroup\":\"increasing\",\"marker\":{\"color\":\"#FFA15A\",\"opacity\":0.5,\"size\":[1],\"sizemode\":\"area\",\"sizeref\":0.0033333333333333335,\"symbol\":\"circle\"},\"mode\":\"markers\",\"name\":\"increasing\",\"orientation\":\"v\",\"showlegend\":true,\"x\":[\"DIPSADIDAE\"],\"xaxis\":\"x\",\"y\":[\"CR\"],\"yaxis\":\"y\",\"type\":\"scatter\"}],                        {\"template\":{\"data\":{\"histogram2dcontour\":[{\"type\":\"histogram2dcontour\",\"colorbar\":{\"outlinewidth\":0,\"ticks\":\"\"},\"colorscale\":[[0.0,\"#0d0887\"],[0.1111111111111111,\"#46039f\"],[0.2222222222222222,\"#7201a8\"],[0.3333333333333333,\"#9c179e\"],[0.4444444444444444,\"#bd3786\"],[0.5555555555555556,\"#d8576b\"],[0.6666666666666666,\"#ed7953\"],[0.7777777777777778,\"#fb9f3a\"],[0.8888888888888888,\"#fdca26\"],[1.0,\"#f0f921\"]]}],\"choropleth\":[{\"type\":\"choropleth\",\"colorbar\":{\"outlinewidth\":0,\"ticks\":\"\"}}],\"histogram2d\":[{\"type\":\"histogram2d\",\"colorbar\":{\"outlinewidth\":0,\"ticks\":\"\"},\"colorscale\":[[0.0,\"#0d0887\"],[0.1111111111111111,\"#46039f\"],[0.2222222222222222,\"#7201a8\"],[0.3333333333333333,\"#9c179e\"],[0.4444444444444444,\"#bd3786\"],[0.5555555555555556,\"#d8576b\"],[0.6666666666666666,\"#ed7953\"],[0.7777777777777778,\"#fb9f3a\"],[0.8888888888888888,\"#fdca26\"],[1.0,\"#f0f921\"]]}],\"heatmap\":[{\"type\":\"heatmap\",\"colorbar\":{\"outlinewidth\":0,\"ticks\":\"\"},\"colorscale\":[[0.0,\"#0d0887\"],[0.1111111111111111,\"#46039f\"],[0.2222222222222222,\"#7201a8\"],[0.3333333333333333,\"#9c179e\"],[0.4444444444444444,\"#bd3786\"],[0.5555555555555556,\"#d8576b\"],[0.6666666666666666,\"#ed7953\"],[0.7777777777777778,\"#fb9f3a\"],[0.8888888888888888,\"#fdca26\"],[1.0,\"#f0f921\"]]}],\"heatmapgl\":[{\"type\":\"heatmapgl\",\"colorbar\":{\"outlinewidth\":0,\"ticks\":\"\"},\"colorscale\":[[0.0,\"#0d0887\"],[0.1111111111111111,\"#46039f\"],[0.2222222222222222,\"#7201a8\"],[0.3333333333333333,\"#9c179e\"],[0.4444444444444444,\"#bd3786\"],[0.5555555555555556,\"#d8576b\"],[0.6666666666666666,\"#ed7953\"],[0.7777777777777778,\"#fb9f3a\"],[0.8888888888888888,\"#fdca26\"],[1.0,\"#f0f921\"]]}],\"contourcarpet\":[{\"type\":\"contourcarpet\",\"colorbar\":{\"outlinewidth\":0,\"ticks\":\"\"}}],\"contour\":[{\"type\":\"contour\",\"colorbar\":{\"outlinewidth\":0,\"ticks\":\"\"},\"colorscale\":[[0.0,\"#0d0887\"],[0.1111111111111111,\"#46039f\"],[0.2222222222222222,\"#7201a8\"],[0.3333333333333333,\"#9c179e\"],[0.4444444444444444,\"#bd3786\"],[0.5555555555555556,\"#d8576b\"],[0.6666666666666666,\"#ed7953\"],[0.7777777777777778,\"#fb9f3a\"],[0.8888888888888888,\"#fdca26\"],[1.0,\"#f0f921\"]]}],\"surface\":[{\"type\":\"surface\",\"colorbar\":{\"outlinewidth\":0,\"ticks\":\"\"},\"colorscale\":[[0.0,\"#0d0887\"],[0.1111111111111111,\"#46039f\"],[0.2222222222222222,\"#7201a8\"],[0.3333333333333333,\"#9c179e\"],[0.4444444444444444,\"#bd3786\"],[0.5555555555555556,\"#d8576b\"],[0.6666666666666666,\"#ed7953\"],[0.7777777777777778,\"#fb9f3a\"],[0.8888888888888888,\"#fdca26\"],[1.0,\"#f0f921\"]]}],\"mesh3d\":[{\"type\":\"mesh3d\",\"colorbar\":{\"outlinewidth\":0,\"ticks\":\"\"}}],\"scatter\":[{\"fillpattern\":{\"fillmode\":\"overlay\",\"size\":10,\"solidity\":0.2},\"type\":\"scatter\"}],\"parcoords\":[{\"type\":\"parcoords\",\"line\":{\"colorbar\":{\"outlinewidth\":0,\"ticks\":\"\"}}}],\"scatterpolargl\":[{\"type\":\"scatterpolargl\",\"marker\":{\"colorbar\":{\"outlinewidth\":0,\"ticks\":\"\"}}}],\"bar\":[{\"error_x\":{\"color\":\"#2a3f5f\"},\"error_y\":{\"color\":\"#2a3f5f\"},\"marker\":{\"line\":{\"color\":\"#E5ECF6\",\"width\":0.5},\"pattern\":{\"fillmode\":\"overlay\",\"size\":10,\"solidity\":0.2}},\"type\":\"bar\"}],\"scattergeo\":[{\"type\":\"scattergeo\",\"marker\":{\"colorbar\":{\"outlinewidth\":0,\"ticks\":\"\"}}}],\"scatterpolar\":[{\"type\":\"scatterpolar\",\"marker\":{\"colorbar\":{\"outlinewidth\":0,\"ticks\":\"\"}}}],\"histogram\":[{\"marker\":{\"pattern\":{\"fillmode\":\"overlay\",\"size\":10,\"solidity\":0.2}},\"type\":\"histogram\"}],\"scattergl\":[{\"type\":\"scattergl\",\"marker\":{\"colorbar\":{\"outlinewidth\":0,\"ticks\":\"\"}}}],\"scatter3d\":[{\"type\":\"scatter3d\",\"line\":{\"colorbar\":{\"outlinewidth\":0,\"ticks\":\"\"}},\"marker\":{\"colorbar\":{\"outlinewidth\":0,\"ticks\":\"\"}}}],\"scattermapbox\":[{\"type\":\"scattermapbox\",\"marker\":{\"colorbar\":{\"outlinewidth\":0,\"ticks\":\"\"}}}],\"scatterternary\":[{\"type\":\"scatterternary\",\"marker\":{\"colorbar\":{\"outlinewidth\":0,\"ticks\":\"\"}}}],\"scattercarpet\":[{\"type\":\"scattercarpet\",\"marker\":{\"colorbar\":{\"outlinewidth\":0,\"ticks\":\"\"}}}],\"carpet\":[{\"aaxis\":{\"endlinecolor\":\"#2a3f5f\",\"gridcolor\":\"white\",\"linecolor\":\"white\",\"minorgridcolor\":\"white\",\"startlinecolor\":\"#2a3f5f\"},\"baxis\":{\"endlinecolor\":\"#2a3f5f\",\"gridcolor\":\"white\",\"linecolor\":\"white\",\"minorgridcolor\":\"white\",\"startlinecolor\":\"#2a3f5f\"},\"type\":\"carpet\"}],\"table\":[{\"cells\":{\"fill\":{\"color\":\"#EBF0F8\"},\"line\":{\"color\":\"white\"}},\"header\":{\"fill\":{\"color\":\"#C8D4E3\"},\"line\":{\"color\":\"white\"}},\"type\":\"table\"}],\"barpolar\":[{\"marker\":{\"line\":{\"color\":\"#E5ECF6\",\"width\":0.5},\"pattern\":{\"fillmode\":\"overlay\",\"size\":10,\"solidity\":0.2}},\"type\":\"barpolar\"}],\"pie\":[{\"automargin\":true,\"type\":\"pie\"}]},\"layout\":{\"autotypenumbers\":\"strict\",\"colorway\":[\"#636efa\",\"#EF553B\",\"#00cc96\",\"#ab63fa\",\"#FFA15A\",\"#19d3f3\",\"#FF6692\",\"#B6E880\",\"#FF97FF\",\"#FECB52\"],\"font\":{\"color\":\"#2a3f5f\"},\"hovermode\":\"closest\",\"hoverlabel\":{\"align\":\"left\"},\"paper_bgcolor\":\"white\",\"plot_bgcolor\":\"#E5ECF6\",\"polar\":{\"bgcolor\":\"#E5ECF6\",\"angularaxis\":{\"gridcolor\":\"white\",\"linecolor\":\"white\",\"ticks\":\"\"},\"radialaxis\":{\"gridcolor\":\"white\",\"linecolor\":\"white\",\"ticks\":\"\"}},\"ternary\":{\"bgcolor\":\"#E5ECF6\",\"aaxis\":{\"gridcolor\":\"white\",\"linecolor\":\"white\",\"ticks\":\"\"},\"baxis\":{\"gridcolor\":\"white\",\"linecolor\":\"white\",\"ticks\":\"\"},\"caxis\":{\"gridcolor\":\"white\",\"linecolor\":\"white\",\"ticks\":\"\"}},\"coloraxis\":{\"colorbar\":{\"outlinewidth\":0,\"ticks\":\"\"}},\"colorscale\":{\"sequential\":[[0.0,\"#0d0887\"],[0.1111111111111111,\"#46039f\"],[0.2222222222222222,\"#7201a8\"],[0.3333333333333333,\"#9c179e\"],[0.4444444444444444,\"#bd3786\"],[0.5555555555555556,\"#d8576b\"],[0.6666666666666666,\"#ed7953\"],[0.7777777777777778,\"#fb9f3a\"],[0.8888888888888888,\"#fdca26\"],[1.0,\"#f0f921\"]],\"sequentialminus\":[[0.0,\"#0d0887\"],[0.1111111111111111,\"#46039f\"],[0.2222222222222222,\"#7201a8\"],[0.3333333333333333,\"#9c179e\"],[0.4444444444444444,\"#bd3786\"],[0.5555555555555556,\"#d8576b\"],[0.6666666666666666,\"#ed7953\"],[0.7777777777777778,\"#fb9f3a\"],[0.8888888888888888,\"#fdca26\"],[1.0,\"#f0f921\"]],\"diverging\":[[0,\"#8e0152\"],[0.1,\"#c51b7d\"],[0.2,\"#de77ae\"],[0.3,\"#f1b6da\"],[0.4,\"#fde0ef\"],[0.5,\"#f7f7f7\"],[0.6,\"#e6f5d0\"],[0.7,\"#b8e186\"],[0.8,\"#7fbc41\"],[0.9,\"#4d9221\"],[1,\"#276419\"]]},\"xaxis\":{\"gridcolor\":\"white\",\"linecolor\":\"white\",\"ticks\":\"\",\"title\":{\"standoff\":15},\"zerolinecolor\":\"white\",\"automargin\":true,\"zerolinewidth\":2},\"yaxis\":{\"gridcolor\":\"white\",\"linecolor\":\"white\",\"ticks\":\"\",\"title\":{\"standoff\":15},\"zerolinecolor\":\"white\",\"automargin\":true,\"zerolinewidth\":2},\"scene\":{\"xaxis\":{\"backgroundcolor\":\"#E5ECF6\",\"gridcolor\":\"white\",\"linecolor\":\"white\",\"showbackground\":true,\"ticks\":\"\",\"zerolinecolor\":\"white\",\"gridwidth\":2},\"yaxis\":{\"backgroundcolor\":\"#E5ECF6\",\"gridcolor\":\"white\",\"linecolor\":\"white\",\"showbackground\":true,\"ticks\":\"\",\"zerolinecolor\":\"white\",\"gridwidth\":2},\"zaxis\":{\"backgroundcolor\":\"#E5ECF6\",\"gridcolor\":\"white\",\"linecolor\":\"white\",\"showbackground\":true,\"ticks\":\"\",\"zerolinecolor\":\"white\",\"gridwidth\":2}},\"shapedefaults\":{\"line\":{\"color\":\"#2a3f5f\"}},\"annotationdefaults\":{\"arrowcolor\":\"#2a3f5f\",\"arrowhead\":0,\"arrowwidth\":1},\"geo\":{\"bgcolor\":\"white\",\"landcolor\":\"#E5ECF6\",\"subunitcolor\":\"white\",\"showland\":true,\"showlakes\":true,\"lakecolor\":\"white\"},\"title\":{\"x\":0.05},\"mapbox\":{\"style\":\"light\"}}},\"xaxis\":{\"anchor\":\"y\",\"domain\":[0.0,1.0],\"title\":{\"text\":\"Family\"}},\"yaxis\":{\"anchor\":\"x\",\"domain\":[0.0,1.0],\"title\":{\"text\":\"Red List status\"}},\"legend\":{\"title\":{\"text\":\"Population trend\"},\"tracegroupgap\":0,\"itemsizing\":\"constant\"},\"margin\":{\"t\":60}},                        {\"responsive\": true}                    ).then(function(){\n",
       "                            \n",
       "var gd = document.getElementById('b7197a44-9f09-4a7b-8c1f-d8578ddbddb2');\n",
       "var x = new MutationObserver(function (mutations, observer) {{\n",
       "        var display = window.getComputedStyle(gd).display;\n",
       "        if (!display || display === 'none') {{\n",
       "            console.log([gd, 'removed!']);\n",
       "            Plotly.purge(gd);\n",
       "            observer.disconnect();\n",
       "        }}\n",
       "}});\n",
       "\n",
       "// Listen for the removal of the full notebook cells\n",
       "var notebookContainer = gd.closest('#notebook-container');\n",
       "if (notebookContainer) {{\n",
       "    x.observe(notebookContainer, {childList: true});\n",
       "}}\n",
       "\n",
       "// Listen for the clearing of the current output cell\n",
       "var outputEl = gd.closest('.output');\n",
       "if (outputEl) {{\n",
       "    x.observe(outputEl, {childList: true});\n",
       "}}\n",
       "\n",
       "                        })                };                });            </script>        </div>"
      ]
     },
     "metadata": {},
     "output_type": "display_data"
    }
   ],
   "source": [
    "fig = px.scatter(data_frame = status,\n",
    "    x=\"Family\",\n",
    "    y=\"Red List status\",\n",
    "    size=\"Count\",\n",
    "    color=\"Population trend\",\n",
    "    size_max = 60,\n",
    "    opacity = 0.5\n",
    ")\n",
    "fig.show()"
   ]
  }
 ],
 "metadata": {
  "kernelspec": {
   "display_name": "Python 3 (ipykernel)",
   "language": "python",
   "name": "python3"
  },
  "language_info": {
   "codemirror_mode": {
    "name": "ipython",
    "version": 3
   },
   "file_extension": ".py",
   "mimetype": "text/x-python",
   "name": "python",
   "nbconvert_exporter": "python",
   "pygments_lexer": "ipython3",
   "version": "3.10.6"
  },
  "toc": {
   "base_numbering": 1,
   "nav_menu": {},
   "number_sections": true,
   "sideBar": true,
   "skip_h1_title": false,
   "title_cell": "Table of Contents",
   "title_sidebar": "Contents",
   "toc_cell": false,
   "toc_position": {},
   "toc_section_display": true,
   "toc_window_display": true
  },
  "varInspector": {
   "cols": {
    "lenName": 16,
    "lenType": 16,
    "lenVar": 40
   },
   "kernels_config": {
    "python": {
     "delete_cmd_postfix": "",
     "delete_cmd_prefix": "del ",
     "library": "var_list.py",
     "varRefreshCmd": "print(var_dic_list())"
    },
    "r": {
     "delete_cmd_postfix": ") ",
     "delete_cmd_prefix": "rm(",
     "library": "var_list.r",
     "varRefreshCmd": "cat(var_dic_list()) "
    }
   },
   "types_to_exclude": [
    "module",
    "function",
    "builtin_function_or_method",
    "instance",
    "_Feature"
   ],
   "window_display": false
  }
 },
 "nbformat": 4,
 "nbformat_minor": 5
}
